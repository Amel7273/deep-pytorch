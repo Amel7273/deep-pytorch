{
 "cells": [
  {
   "cell_type": "code",
   "execution_count": 1,
   "id": "f153fea7",
   "metadata": {},
   "outputs": [],
   "source": [
    "#11.2.1 K-Means"
   ]
  },
  {
   "cell_type": "code",
   "execution_count": 2,
   "id": "2d5563c7",
   "metadata": {},
   "outputs": [],
   "source": [
    "#!pip install kmeans_pytorch\n",
    "import pandas as pd\n",
    "from sklearn.model_selection import train_test_split\n",
    "import torch\n",
    "from kmeans_pytorch import kmeans, kmeans_predict\n",
    "import matplotlib.pyplot as plt"
   ]
  },
  {
   "cell_type": "code",
   "execution_count": 3,
   "id": "01becd8a",
   "metadata": {},
   "outputs": [
    {
     "name": "stdout",
     "output_type": "stream",
     "text": [
      "<class 'pandas.core.frame.DataFrame'>\n",
      "RangeIndex: 150 entries, 0 to 149\n",
      "Data columns (total 6 columns):\n",
      " #   Column         Non-Null Count  Dtype  \n",
      "---  ------         --------------  -----  \n",
      " 0   Id             150 non-null    int64  \n",
      " 1   SepalLengthCm  150 non-null    float64\n",
      " 2   SepalWidthCm   150 non-null    float64\n",
      " 3   PetalLengthCm  150 non-null    float64\n",
      " 4   PetalWidthCm   150 non-null    float64\n",
      " 5   Species        150 non-null    object \n",
      "dtypes: float64(4), int64(1), object(1)\n",
      "memory usage: 7.2+ KB\n",
      "------------------------------------------\n",
      "      Id  SepalLengthCm  SepalWidthCm  PetalLengthCm  PetalWidthCm  \\\n",
      "0      1            5.1           3.5            1.4           0.2   \n",
      "1      2            4.9           3.0            1.4           0.2   \n",
      "2      3            4.7           3.2            1.3           0.2   \n",
      "3      4            4.6           3.1            1.5           0.2   \n",
      "4      5            5.0           3.6            1.4           0.2   \n",
      "..   ...            ...           ...            ...           ...   \n",
      "145  146            6.7           3.0            5.2           2.3   \n",
      "146  147            6.3           2.5            5.0           1.9   \n",
      "147  148            6.5           3.0            5.2           2.0   \n",
      "148  149            6.2           3.4            5.4           2.3   \n",
      "149  150            5.9           3.0            5.1           1.8   \n",
      "\n",
      "            Species  \n",
      "0       Iris-setosa  \n",
      "1       Iris-setosa  \n",
      "2       Iris-setosa  \n",
      "3       Iris-setosa  \n",
      "4       Iris-setosa  \n",
      "..              ...  \n",
      "145  Iris-virginica  \n",
      "146  Iris-virginica  \n",
      "147  Iris-virginica  \n",
      "148  Iris-virginica  \n",
      "149  Iris-virginica  \n",
      "\n",
      "[150 rows x 6 columns]\n"
     ]
    }
   ],
   "source": [
    "df = pd.read_csv('../chap11/data/iris.csv')\n",
    "df.info()\n",
    "print('------------------------------------------')\n",
    "print(df)"
   ]
  },
  {
   "cell_type": "code",
   "execution_count": 4,
   "id": "de4d28fd",
   "metadata": {},
   "outputs": [
    {
     "data": {
      "text/html": [
       "<div>\n",
       "<style scoped>\n",
       "    .dataframe tbody tr th:only-of-type {\n",
       "        vertical-align: middle;\n",
       "    }\n",
       "\n",
       "    .dataframe tbody tr th {\n",
       "        vertical-align: top;\n",
       "    }\n",
       "\n",
       "    .dataframe thead th {\n",
       "        text-align: right;\n",
       "    }\n",
       "</style>\n",
       "<table border=\"1\" class=\"dataframe\">\n",
       "  <thead>\n",
       "    <tr style=\"text-align: right;\">\n",
       "      <th></th>\n",
       "      <th>Id</th>\n",
       "      <th>SepalLengthCm</th>\n",
       "      <th>SepalWidthCm</th>\n",
       "      <th>PetalLengthCm</th>\n",
       "      <th>PetalWidthCm</th>\n",
       "      <th>Species_Iris-setosa</th>\n",
       "      <th>Species_Iris-versicolor</th>\n",
       "      <th>Species_Iris-virginica</th>\n",
       "    </tr>\n",
       "  </thead>\n",
       "  <tbody>\n",
       "    <tr>\n",
       "      <th>0</th>\n",
       "      <td>1</td>\n",
       "      <td>5.1</td>\n",
       "      <td>3.5</td>\n",
       "      <td>1.4</td>\n",
       "      <td>0.2</td>\n",
       "      <td>1</td>\n",
       "      <td>0</td>\n",
       "      <td>0</td>\n",
       "    </tr>\n",
       "    <tr>\n",
       "      <th>1</th>\n",
       "      <td>2</td>\n",
       "      <td>4.9</td>\n",
       "      <td>3.0</td>\n",
       "      <td>1.4</td>\n",
       "      <td>0.2</td>\n",
       "      <td>1</td>\n",
       "      <td>0</td>\n",
       "      <td>0</td>\n",
       "    </tr>\n",
       "    <tr>\n",
       "      <th>2</th>\n",
       "      <td>3</td>\n",
       "      <td>4.7</td>\n",
       "      <td>3.2</td>\n",
       "      <td>1.3</td>\n",
       "      <td>0.2</td>\n",
       "      <td>1</td>\n",
       "      <td>0</td>\n",
       "      <td>0</td>\n",
       "    </tr>\n",
       "    <tr>\n",
       "      <th>3</th>\n",
       "      <td>4</td>\n",
       "      <td>4.6</td>\n",
       "      <td>3.1</td>\n",
       "      <td>1.5</td>\n",
       "      <td>0.2</td>\n",
       "      <td>1</td>\n",
       "      <td>0</td>\n",
       "      <td>0</td>\n",
       "    </tr>\n",
       "    <tr>\n",
       "      <th>4</th>\n",
       "      <td>5</td>\n",
       "      <td>5.0</td>\n",
       "      <td>3.6</td>\n",
       "      <td>1.4</td>\n",
       "      <td>0.2</td>\n",
       "      <td>1</td>\n",
       "      <td>0</td>\n",
       "      <td>0</td>\n",
       "    </tr>\n",
       "    <tr>\n",
       "      <th>...</th>\n",
       "      <td>...</td>\n",
       "      <td>...</td>\n",
       "      <td>...</td>\n",
       "      <td>...</td>\n",
       "      <td>...</td>\n",
       "      <td>...</td>\n",
       "      <td>...</td>\n",
       "      <td>...</td>\n",
       "    </tr>\n",
       "    <tr>\n",
       "      <th>145</th>\n",
       "      <td>146</td>\n",
       "      <td>6.7</td>\n",
       "      <td>3.0</td>\n",
       "      <td>5.2</td>\n",
       "      <td>2.3</td>\n",
       "      <td>0</td>\n",
       "      <td>0</td>\n",
       "      <td>1</td>\n",
       "    </tr>\n",
       "    <tr>\n",
       "      <th>146</th>\n",
       "      <td>147</td>\n",
       "      <td>6.3</td>\n",
       "      <td>2.5</td>\n",
       "      <td>5.0</td>\n",
       "      <td>1.9</td>\n",
       "      <td>0</td>\n",
       "      <td>0</td>\n",
       "      <td>1</td>\n",
       "    </tr>\n",
       "    <tr>\n",
       "      <th>147</th>\n",
       "      <td>148</td>\n",
       "      <td>6.5</td>\n",
       "      <td>3.0</td>\n",
       "      <td>5.2</td>\n",
       "      <td>2.0</td>\n",
       "      <td>0</td>\n",
       "      <td>0</td>\n",
       "      <td>1</td>\n",
       "    </tr>\n",
       "    <tr>\n",
       "      <th>148</th>\n",
       "      <td>149</td>\n",
       "      <td>6.2</td>\n",
       "      <td>3.4</td>\n",
       "      <td>5.4</td>\n",
       "      <td>2.3</td>\n",
       "      <td>0</td>\n",
       "      <td>0</td>\n",
       "      <td>1</td>\n",
       "    </tr>\n",
       "    <tr>\n",
       "      <th>149</th>\n",
       "      <td>150</td>\n",
       "      <td>5.9</td>\n",
       "      <td>3.0</td>\n",
       "      <td>5.1</td>\n",
       "      <td>1.8</td>\n",
       "      <td>0</td>\n",
       "      <td>0</td>\n",
       "      <td>1</td>\n",
       "    </tr>\n",
       "  </tbody>\n",
       "</table>\n",
       "<p>150 rows × 8 columns</p>\n",
       "</div>"
      ],
      "text/plain": [
       "      Id  SepalLengthCm  SepalWidthCm  PetalLengthCm  PetalWidthCm  \\\n",
       "0      1            5.1           3.5            1.4           0.2   \n",
       "1      2            4.9           3.0            1.4           0.2   \n",
       "2      3            4.7           3.2            1.3           0.2   \n",
       "3      4            4.6           3.1            1.5           0.2   \n",
       "4      5            5.0           3.6            1.4           0.2   \n",
       "..   ...            ...           ...            ...           ...   \n",
       "145  146            6.7           3.0            5.2           2.3   \n",
       "146  147            6.3           2.5            5.0           1.9   \n",
       "147  148            6.5           3.0            5.2           2.0   \n",
       "148  149            6.2           3.4            5.4           2.3   \n",
       "149  150            5.9           3.0            5.1           1.8   \n",
       "\n",
       "     Species_Iris-setosa  Species_Iris-versicolor  Species_Iris-virginica  \n",
       "0                      1                        0                       0  \n",
       "1                      1                        0                       0  \n",
       "2                      1                        0                       0  \n",
       "3                      1                        0                       0  \n",
       "4                      1                        0                       0  \n",
       "..                   ...                      ...                     ...  \n",
       "145                    0                        0                       1  \n",
       "146                    0                        0                       1  \n",
       "147                    0                        0                       1  \n",
       "148                    0                        0                       1  \n",
       "149                    0                        0                       1  \n",
       "\n",
       "[150 rows x 8 columns]"
      ]
     },
     "execution_count": 4,
     "metadata": {},
     "output_type": "execute_result"
    }
   ],
   "source": [
    "data=pd.get_dummies(df, columns=['Species'])\n",
    "data"
   ]
  },
  {
   "cell_type": "code",
   "execution_count": 5,
   "id": "69edc39e",
   "metadata": {},
   "outputs": [],
   "source": [
    "from sklearn.model_selection import train_test_split\n",
    "x, y = train_test_split(data, test_size=0.2, random_state=123)"
   ]
  },
  {
   "cell_type": "code",
   "execution_count": 6,
   "id": "3d9efaee",
   "metadata": {},
   "outputs": [],
   "source": [
    "if torch.cuda.is_available():\n",
    "    device = torch.device('cuda:0')\n",
    "else:\n",
    "    device = torch.device('cpu')"
   ]
  },
  {
   "cell_type": "code",
   "execution_count": 7,
   "id": "885823bb",
   "metadata": {},
   "outputs": [],
   "source": [
    "from sklearn.preprocessing import StandardScaler\n",
    "scaler = StandardScaler()\n",
    "X_scaled = scaler.fit(data).transform(x)\n",
    "y_scaled = scaler.fit(y).transform(y)"
   ]
  },
  {
   "cell_type": "code",
   "execution_count": 8,
   "id": "e4ba98b2",
   "metadata": {},
   "outputs": [],
   "source": [
    "x = torch.from_numpy(X_scaled)\n",
    "y = torch.from_numpy(y_scaled)"
   ]
  },
  {
   "cell_type": "code",
   "execution_count": 9,
   "id": "980f44d8",
   "metadata": {},
   "outputs": [
    {
     "name": "stdout",
     "output_type": "stream",
     "text": [
      "torch.Size([120, 8])\n",
      "torch.Size([30, 8])\n",
      "tensor([[ 1.2817e+00,  1.8862e+00, -5.8776e-01,  1.3314e+00,  9.2206e-01,\n",
      "         -7.0711e-01, -7.0711e-01,  1.4142e+00],\n",
      "        [ 1.0277e+00,  1.8983e-01, -1.9762e+00,  7.0589e-01,  3.9617e-01,\n",
      "         -7.0711e-01, -7.0711e-01,  1.4142e+00],\n",
      "        [-1.0508e+00, -1.3854e+00,  3.3785e-01, -1.2275e+00, -1.3130e+00,\n",
      "          1.4142e+00, -7.0711e-01, -7.0711e-01],\n",
      "        [-1.7205e+00, -9.0068e-01,  1.0321e+00, -1.3413e+00, -1.3130e+00,\n",
      "          1.4142e+00, -7.0711e-01, -7.0711e-01],\n",
      "        [-2.8868e-01,  1.8983e-01, -1.9762e+00,  1.3724e-01, -2.6119e-01,\n",
      "         -7.0711e-01,  1.4142e+00, -7.0711e-01],\n",
      "        [ 4.2725e-01, -1.0218e+00, -1.7448e+00, -2.6082e-01, -2.6119e-01,\n",
      "         -7.0711e-01,  1.4142e+00, -7.0711e-01],\n",
      "        [ 1.3048e+00,  2.4920e+00,  1.7263e+00,  1.5020e+00,  1.0535e+00,\n",
      "         -7.0711e-01, -7.0711e-01,  1.4142e+00],\n",
      "        [-1.6051e+00, -5.3718e-01,  1.9577e+00, -1.1707e+00, -1.0500e+00,\n",
      "          1.4142e+00, -7.0711e-01, -7.0711e-01],\n",
      "        [-1.3510e+00, -5.3718e-01,  1.9577e+00, -1.3981e+00, -1.0500e+00,\n",
      "          1.4142e+00, -7.0711e-01, -7.0711e-01],\n",
      "        [ 1.7321e-01, -5.2506e-02, -8.1917e-01,  8.0370e-02,  1.7530e-03,\n",
      "         -7.0711e-01,  1.4142e+00, -7.0711e-01],\n",
      "        [-3.3487e-01, -1.0218e+00, -2.4390e+00, -1.4709e-01, -2.6119e-01,\n",
      "         -7.0711e-01,  1.4142e+00, -7.0711e-01],\n",
      "        [-9.1223e-01, -1.0218e+00,  3.3785e-01, -1.4550e+00, -1.3130e+00,\n",
      "          1.4142e+00, -7.0711e-01, -7.0711e-01],\n",
      "        [ 1.5820e+00,  1.1592e+00,  3.3785e-01,  1.2177e+00,  1.4480e+00,\n",
      "         -7.0711e-01, -7.0711e-01,  1.4142e+00],\n",
      "        [ 1.6282e+00,  1.0380e+00, -1.2496e-01,  8.1962e-01,  1.4480e+00,\n",
      "         -7.0711e-01, -7.0711e-01,  1.4142e+00],\n",
      "        [ 1.5589e+00, -5.2506e-02, -8.1917e-01,  7.6276e-01,  9.2206e-01,\n",
      "         -7.0711e-01, -7.0711e-01,  1.4142e+00],\n",
      "        [ 9.1223e-01, -5.2506e-02, -5.8776e-01,  7.6276e-01,  1.5794e+00,\n",
      "         -7.0711e-01, -7.0711e-01,  1.4142e+00],\n",
      "        [ 1.4203e+00,  5.5333e-01,  8.0065e-01,  1.0471e+00,  1.5794e+00,\n",
      "         -7.0711e-01, -7.0711e-01,  1.4142e+00],\n",
      "        [-4.9653e-01, -4.1601e-01, -1.7448e+00,  1.3724e-01,  1.3323e-01,\n",
      "         -7.0711e-01,  1.4142e+00, -7.0711e-01],\n",
      "        [-1.2817e+00, -9.0068e-01,  1.7263e+00, -1.2844e+00, -1.1815e+00,\n",
      "          1.4142e+00, -7.0711e-01, -7.0711e-01],\n",
      "        [-8.4295e-01, -1.7489e+00, -1.2496e-01, -1.3981e+00, -1.3130e+00,\n",
      "          1.4142e+00, -7.0711e-01, -7.0711e-01],\n",
      "        [ 8.1986e-01,  7.9567e-01,  3.3785e-01,  7.6276e-01,  1.0535e+00,\n",
      "         -7.0711e-01, -7.0711e-01,  1.4142e+00],\n",
      "        [-1.1894e+00, -9.0068e-01,  5.6925e-01, -1.1707e+00, -9.1856e-01,\n",
      "          1.4142e+00, -7.0711e-01, -7.0711e-01],\n",
      "        [-1.5127e+00, -1.1430e+00,  1.0645e-01, -1.2844e+00, -1.4444e+00,\n",
      "          1.4142e+00, -7.0711e-01, -7.0711e-01],\n",
      "        [ 2.6559e-01,  1.0380e+00,  1.0645e-01,  5.3530e-01,  3.9617e-01,\n",
      "         -7.0711e-01,  1.4142e+00, -7.0711e-01],\n",
      "        [ 3.8106e-01,  3.1100e-01, -1.2496e-01,  4.7843e-01,  2.6470e-01,\n",
      "         -7.0711e-01,  1.4142e+00, -7.0711e-01],\n",
      "        [ 3.3487e-01, -4.1601e-01, -1.2820e+00,  1.3724e-01,  1.3323e-01,\n",
      "         -7.0711e-01,  1.4142e+00, -7.0711e-01],\n",
      "        [ 1.0393e-01, -1.7367e-01, -1.0506e+00, -1.4709e-01, -2.6119e-01,\n",
      "         -7.0711e-01,  1.4142e+00, -7.0711e-01],\n",
      "        [ 6.1200e-01, -5.2506e-02, -8.1917e-01,  7.6276e-01,  9.2206e-01,\n",
      "         -7.0711e-01, -7.0711e-01,  1.4142e+00],\n",
      "        [-2.1940e-01,  1.0380e+00,  1.0645e-01,  3.6470e-01,  2.6470e-01,\n",
      "         -7.0711e-01,  1.4142e+00, -7.0711e-01],\n",
      "        [ 9.3533e-01,  6.7450e-01,  3.3785e-01,  8.7649e-01,  1.4480e+00,\n",
      "         -7.0711e-01, -7.0711e-01,  1.4142e+00],\n",
      "        [-7.7367e-01, -1.6277e+00, -1.7448e+00, -1.3981e+00, -1.1815e+00,\n",
      "          1.4142e+00, -7.0711e-01, -7.0711e-01],\n",
      "        [ 1.1432e+00,  1.0380e+00,  5.6925e-01,  1.1040e+00,  1.1850e+00,\n",
      "         -7.0711e-01, -7.0711e-01,  1.4142e+00],\n",
      "        [ 4.7344e-01, -1.7367e-01, -1.2496e-01,  2.5097e-01,  1.7530e-03,\n",
      "         -7.0711e-01,  1.4142e+00, -7.0711e-01],\n",
      "        [-1.2356e+00, -9.0068e-01,  1.4949e+00, -1.2844e+00, -1.0500e+00,\n",
      "          1.4142e+00, -7.0711e-01, -7.0711e-01],\n",
      "        [-1.4665e+00, -1.2642e+00,  8.0065e-01, -1.2275e+00, -1.3130e+00,\n",
      "          1.4142e+00, -7.0711e-01, -7.0711e-01],\n",
      "        [ 6.5819e-01,  5.5333e-01, -3.5636e-01,  1.0471e+00,  7.9059e-01,\n",
      "         -7.0711e-01, -7.0711e-01,  1.4142e+00],\n",
      "        [-1.1547e-02,  6.7450e-01, -3.5636e-01,  3.0783e-01,  1.3323e-01,\n",
      "         -7.0711e-01,  1.4142e+00, -7.0711e-01],\n",
      "        [ 1.0970e+00,  2.2497e+00, -5.8776e-01,  1.6726e+00,  1.0535e+00,\n",
      "         -7.0711e-01, -7.0711e-01,  1.4142e+00],\n",
      "        [ 1.0046e+00,  2.2497e+00, -1.0506e+00,  1.7863e+00,  1.4480e+00,\n",
      "         -7.0711e-01, -7.0711e-01,  1.4142e+00],\n",
      "        [-7.0438e-01, -9.0068e-01,  1.7263e+00, -1.0569e+00, -1.0500e+00,\n",
      "          1.4142e+00, -7.0711e-01, -7.0711e-01],\n",
      "        [-5.4272e-01,  6.7450e-01,  3.3785e-01,  4.2156e-01,  3.9617e-01,\n",
      "         -7.0711e-01,  1.4142e+00, -7.0711e-01],\n",
      "        [ 1.5011e-01, -4.1601e-01, -1.5134e+00, -3.3361e-02, -2.6119e-01,\n",
      "         -7.0711e-01,  1.4142e+00, -7.0711e-01],\n",
      "        [ 1.7205e+00,  6.8662e-02, -1.2496e-01,  7.6276e-01,  7.9059e-01,\n",
      "         -7.0711e-01, -7.0711e-01,  1.4142e+00],\n",
      "        [-1.4434e+00, -1.2642e+00, -1.2496e-01, -1.3413e+00, -1.4444e+00,\n",
      "          1.4142e+00, -7.0711e-01, -7.0711e-01],\n",
      "        [ 1.2587e+00,  1.6438e+00, -1.2496e-01,  1.1608e+00,  5.2764e-01,\n",
      "         -7.0711e-01, -7.0711e-01,  1.4142e+00],\n",
      "        [-4.2725e-01,  5.5333e-01,  5.6925e-01,  5.3530e-01,  5.2764e-01,\n",
      "         -7.0711e-01,  1.4142e+00, -7.0711e-01],\n",
      "        [-5.6582e-01,  1.4015e+00,  3.3785e-01,  5.3530e-01,  2.6470e-01,\n",
      "         -7.0711e-01,  1.4142e+00, -7.0711e-01],\n",
      "        [-1.1432e+00, -1.0218e+00, -1.2496e-01, -1.2275e+00, -1.3130e+00,\n",
      "          1.4142e+00, -7.0711e-01, -7.0711e-01],\n",
      "        [ 1.2356e+00,  6.7450e-01, -5.8776e-01,  1.0471e+00,  1.1850e+00,\n",
      "         -7.0711e-01, -7.0711e-01,  1.4142e+00],\n",
      "        [ 1.6513e+00,  5.5333e-01, -1.2820e+00,  7.0589e-01,  9.2206e-01,\n",
      "         -7.0711e-01, -7.0711e-01,  1.4142e+00],\n",
      "        [-7.2748e-01, -1.0218e+00,  1.0321e+00, -1.2275e+00, -7.8708e-01,\n",
      "          1.4142e+00, -7.0711e-01, -7.0711e-01],\n",
      "        [-1.6974e+00, -1.1430e+00, -1.2496e-01, -1.3413e+00, -1.3130e+00,\n",
      "          1.4142e+00, -7.0711e-01, -7.0711e-01],\n",
      "        [-8.0831e-02,  3.1100e-01, -5.8776e-01,  1.3724e-01,  1.3323e-01,\n",
      "         -7.0711e-01,  1.4142e+00, -7.0711e-01],\n",
      "        [-4.7344e-01,  7.9567e-01, -5.8776e-01,  4.7843e-01,  3.9617e-01,\n",
      "         -7.0711e-01,  1.4142e+00, -7.0711e-01],\n",
      "        [ 5.8891e-01,  5.5333e-01,  5.6925e-01,  1.2745e+00,  1.7109e+00,\n",
      "         -7.0711e-01, -7.0711e-01,  1.4142e+00],\n",
      "        [-1.3972e+00, -5.2506e-02,  2.1891e+00, -1.4550e+00, -1.3130e+00,\n",
      "          1.4142e+00, -7.0711e-01, -7.0711e-01],\n",
      "        [-1.5820e+00, -1.5065e+00,  8.0065e-01, -1.3413e+00, -1.1815e+00,\n",
      "          1.4142e+00, -7.0711e-01, -7.0711e-01],\n",
      "        [ 1.2702e-01, -4.1601e-01, -1.5134e+00,  2.3504e-02, -1.2972e-01,\n",
      "         -7.0711e-01,  1.4142e+00, -7.0711e-01],\n",
      "        [-1.1201e+00, -1.0218e+00,  8.0065e-01, -1.2275e+00, -1.0500e+00,\n",
      "          1.4142e+00, -7.0711e-01, -7.0711e-01],\n",
      "        [-1.0393e-01,  6.8662e-02,  3.3785e-01,  5.9216e-01,  7.9059e-01,\n",
      "         -7.0711e-01,  1.4142e+00, -7.0711e-01],\n",
      "        [ 1.4896e+00,  1.2803e+00,  1.0645e-01,  9.3336e-01,  1.1850e+00,\n",
      "         -7.0711e-01, -7.0711e-01,  1.4142e+00],\n",
      "        [-1.0277e+00, -1.2642e+00,  1.0645e-01, -1.2275e+00, -1.3130e+00,\n",
      "          1.4142e+00, -7.0711e-01, -7.0711e-01],\n",
      "        [ 7.7367e-01,  1.0380e+00, -1.2820e+00,  1.1608e+00,  7.9059e-01,\n",
      "         -7.0711e-01, -7.0711e-01,  1.4142e+00],\n",
      "        [-1.3741e+00, -1.7367e-01,  3.1147e+00, -1.2844e+00, -1.0500e+00,\n",
      "          1.4142e+00, -7.0711e-01, -7.0711e-01],\n",
      "        [-1.3048e+00, -1.7367e-01,  1.7263e+00, -1.1707e+00, -1.1815e+00,\n",
      "          1.4142e+00, -7.0711e-01, -7.0711e-01],\n",
      "        [ 5.7736e-02,  1.0380e+00, -1.2496e-01,  7.0589e-01,  6.5912e-01,\n",
      "         -7.0711e-01,  1.4142e+00, -7.0711e-01],\n",
      "        [-1.2125e+00, -1.5065e+00,  1.2635e+00, -1.5687e+00, -1.3130e+00,\n",
      "          1.4142e+00, -7.0711e-01, -7.0711e-01],\n",
      "        [-1.4896e+00, -5.3718e-01,  1.4949e+00, -1.2844e+00, -1.3130e+00,\n",
      "          1.4142e+00, -7.0711e-01, -7.0711e-01],\n",
      "        [-3.8106e-01,  9.1684e-01, -3.5636e-01,  4.7843e-01,  1.3323e-01,\n",
      "         -7.0711e-01,  1.4142e+00, -7.0711e-01],\n",
      "        [ 7.5057e-01,  1.7650e+00, -3.5636e-01,  1.4451e+00,  7.9059e-01,\n",
      "         -7.0711e-01, -7.0711e-01,  1.4142e+00],\n",
      "        [ 1.1547e-02,  9.1684e-01, -1.2496e-01,  3.6470e-01,  2.6470e-01,\n",
      "         -7.0711e-01,  1.4142e+00, -7.0711e-01],\n",
      "        [-2.4249e-01, -2.9484e-01, -3.5636e-01, -9.0227e-02,  1.3323e-01,\n",
      "         -7.0711e-01,  1.4142e+00, -7.0711e-01],\n",
      "        [-1.2702e-01, -2.9484e-01, -1.2820e+00,  8.0370e-02, -1.2972e-01,\n",
      "         -7.0711e-01,  1.4142e+00, -7.0711e-01],\n",
      "        [-1.6513e+00, -1.5065e+00,  1.0645e-01, -1.2844e+00, -1.3130e+00,\n",
      "          1.4142e+00, -7.0711e-01, -7.0711e-01],\n",
      "        [-7.9676e-01, -1.0218e+00,  1.0321e+00, -1.3981e+00, -1.1815e+00,\n",
      "          1.4142e+00, -7.0711e-01, -7.0711e-01],\n",
      "        [ 3.4642e-02,  1.1592e+00, -5.8776e-01,  5.9216e-01,  2.6470e-01,\n",
      "         -7.0711e-01,  1.4142e+00, -7.0711e-01],\n",
      "        [ 1.3741e+00,  3.1100e-01, -1.0506e+00,  1.0471e+00,  2.6470e-01,\n",
      "         -7.0711e-01, -7.0711e-01,  1.4142e+00],\n",
      "        [-9.3533e-01, -1.1430e+00,  1.0645e-01, -1.2844e+00, -1.4444e+00,\n",
      "          1.4142e+00, -7.0711e-01, -7.0711e-01],\n",
      "        [-1.0970e+00, -7.7951e-01,  1.0321e+00, -1.2844e+00, -1.3130e+00,\n",
      "          1.4142e+00, -7.0711e-01, -7.0711e-01],\n",
      "        [ 4.5034e-01, -2.9484e-01, -8.1917e-01,  2.5097e-01,  1.3323e-01,\n",
      "         -7.0711e-01,  1.4142e+00, -7.0711e-01],\n",
      "        [ 2.4249e-01,  1.8983e-01,  8.0065e-01,  4.2156e-01,  5.2764e-01,\n",
      "         -7.0711e-01,  1.4142e+00, -7.0711e-01],\n",
      "        [ 5.1963e-01,  4.3217e-01, -3.5636e-01,  3.0783e-01,  1.3323e-01,\n",
      "         -7.0711e-01,  1.4142e+00, -7.0711e-01],\n",
      "        [ 6.3510e-01,  1.5227e+00, -1.2496e-01,  1.2177e+00,  1.1850e+00,\n",
      "         -7.0711e-01, -7.0711e-01,  1.4142e+00],\n",
      "        [-5.1963e-01,  1.2803e+00,  1.0645e-01,  6.4903e-01,  3.9617e-01,\n",
      "         -7.0711e-01,  1.4142e+00, -7.0711e-01],\n",
      "        [ 4.0415e-01, -5.2506e-02, -1.0506e+00,  1.3724e-01,  1.7530e-03,\n",
      "         -7.0711e-01,  1.4142e+00, -7.0711e-01],\n",
      "        [ 5.6582e-01, -1.7367e-01, -5.8776e-01,  1.9410e-01,  1.3323e-01,\n",
      "         -7.0711e-01,  1.4142e+00, -7.0711e-01],\n",
      "        [ 7.0438e-01,  2.1285e+00, -1.2496e-01,  1.6157e+00,  1.1850e+00,\n",
      "         -7.0711e-01, -7.0711e-01,  1.4142e+00],\n",
      "        [-1.5589e+00, -1.0218e+00,  8.0065e-01, -1.2844e+00, -1.3130e+00,\n",
      "          1.4142e+00, -7.0711e-01, -7.0711e-01],\n",
      "        [-6.1200e-01, -6.5835e-01,  1.4949e+00, -1.2844e+00, -1.3130e+00,\n",
      "          1.4142e+00, -7.0711e-01, -7.0711e-01],\n",
      "        [-3.1178e-01,  6.8662e-02, -1.2496e-01,  2.5097e-01,  3.9617e-01,\n",
      "         -7.0711e-01,  1.4142e+00, -7.0711e-01],\n",
      "        [ 1.0508e+00,  1.2803e+00,  3.3785e-01,  1.1040e+00,  1.4480e+00,\n",
      "         -7.0711e-01, -7.0711e-01,  1.4142e+00],\n",
      "        [ 1.4434e+00,  6.7450e-01,  1.0645e-01,  9.9022e-01,  7.9059e-01,\n",
      "         -7.0711e-01, -7.0711e-01,  1.4142e+00],\n",
      "        [ 1.1663e+00,  1.6438e+00,  3.3785e-01,  1.2745e+00,  7.9059e-01,\n",
      "         -7.0711e-01, -7.0711e-01,  1.4142e+00],\n",
      "        [ 1.6744e+00,  7.9567e-01, -1.2496e-01,  8.1962e-01,  1.0535e+00,\n",
      "         -7.0711e-01, -7.0711e-01,  1.4142e+00],\n",
      "        [-8.1986e-01, -9.0068e-01,  8.0065e-01, -1.2844e+00, -1.3130e+00,\n",
      "          1.4142e+00, -7.0711e-01, -7.0711e-01],\n",
      "        [ 2.1940e-01, -5.3718e-01, -1.2496e-01,  4.2156e-01,  3.9617e-01,\n",
      "         -7.0711e-01,  1.4142e+00, -7.0711e-01],\n",
      "        [-1.6744e+00, -1.3854e+00,  3.3785e-01, -1.3981e+00, -1.3130e+00,\n",
      "          1.4142e+00, -7.0711e-01, -7.0711e-01],\n",
      "        [-1.7321e-01, -5.2506e-02, -8.1917e-01,  1.9410e-01, -2.6119e-01,\n",
      "         -7.0711e-01,  1.4142e+00, -7.0711e-01],\n",
      "        [-4.5034e-01, -1.7367e-01, -5.8776e-01,  4.2156e-01,  1.3323e-01,\n",
      "         -7.0711e-01,  1.4142e+00, -7.0711e-01],\n",
      "        [-5.8891e-01, -1.0218e+00,  5.6925e-01, -1.3413e+00, -1.3130e+00,\n",
      "          1.4142e+00, -7.0711e-01, -7.0711e-01],\n",
      "        [-1.5011e-01,  4.3217e-01, -1.9762e+00,  4.2156e-01,  3.9617e-01,\n",
      "         -7.0711e-01,  1.4142e+00, -7.0711e-01],\n",
      "        [ 1.5127e+00,  1.0380e+00,  1.0645e-01,  1.0471e+00,  1.5794e+00,\n",
      "         -7.0711e-01, -7.0711e-01,  1.4142e+00],\n",
      "        [ 8.0831e-02,  1.8983e-01, -3.5636e-01,  4.2156e-01,  3.9617e-01,\n",
      "         -7.0711e-01,  1.4142e+00, -7.0711e-01],\n",
      "        [ 1.6051e+00,  1.0380e+00,  5.6925e-01,  1.1040e+00,  1.7109e+00,\n",
      "         -7.0711e-01, -7.0711e-01,  1.4142e+00],\n",
      "        [ 8.4295e-01,  6.7450e-01, -8.1917e-01,  8.7649e-01,  9.2206e-01,\n",
      "         -7.0711e-01, -7.0711e-01,  1.4142e+00],\n",
      "        [-9.8152e-01, -7.7951e-01,  2.4205e+00, -1.2844e+00, -1.4444e+00,\n",
      "          1.4142e+00, -7.0711e-01, -7.0711e-01],\n",
      "        [-3.4642e-02,  3.1100e-01, -5.8776e-01,  5.3530e-01,  1.7530e-03,\n",
      "         -7.0711e-01,  1.4142e+00, -7.0711e-01],\n",
      "        [-6.3510e-01, -1.5065e+00,  3.3785e-01, -1.3413e+00, -1.3130e+00,\n",
      "          1.4142e+00, -7.0711e-01, -7.0711e-01],\n",
      "        [ 1.6974e+00,  4.3217e-01,  8.0065e-01,  9.3336e-01,  1.4480e+00,\n",
      "         -7.0711e-01, -7.0711e-01,  1.4142e+00],\n",
      "        [ 8.8914e-01, -1.7367e-01, -1.2820e+00,  7.0589e-01,  1.0535e+00,\n",
      "         -7.0711e-01, -7.0711e-01,  1.4142e+00],\n",
      "        [ 4.9653e-01, -1.7367e-01, -3.5636e-01,  2.5097e-01,  1.3323e-01,\n",
      "         -7.0711e-01,  1.4142e+00, -7.0711e-01],\n",
      "        [-4.0415e-01, -1.1430e+00, -1.5134e+00, -2.6082e-01, -2.6119e-01,\n",
      "         -7.0711e-01,  1.4142e+00, -7.0711e-01],\n",
      "        [ 1.1201e+00,  5.5333e-01, -8.1917e-01,  6.4903e-01,  7.9059e-01,\n",
      "         -7.0711e-01, -7.0711e-01,  1.4142e+00],\n",
      "        [ 7.2748e-01, -1.1430e+00, -1.2820e+00,  4.2156e-01,  6.5912e-01,\n",
      "         -7.0711e-01, -7.0711e-01,  1.4142e+00],\n",
      "        [ 1.9630e-01,  1.8983e-01, -8.1917e-01,  7.6276e-01,  5.2764e-01,\n",
      "         -7.0711e-01,  1.4142e+00, -7.0711e-01],\n",
      "        [-1.3279e+00, -9.0068e-01,  1.0321e+00, -1.3413e+00, -1.1815e+00,\n",
      "          1.4142e+00, -7.0711e-01, -7.0711e-01],\n",
      "        [ 5.4272e-01, -9.0068e-01, -1.2820e+00, -4.3142e-01, -1.2972e-01,\n",
      "         -7.0711e-01,  1.4142e+00, -7.0711e-01],\n",
      "        [-1.9630e-01, -2.9484e-01, -1.2496e-01,  4.2156e-01,  3.9617e-01,\n",
      "         -7.0711e-01,  1.4142e+00, -7.0711e-01],\n",
      "        [ 1.1894e+00,  4.3217e-01, -5.8776e-01,  5.9216e-01,  7.9059e-01,\n",
      "         -7.0711e-01, -7.0711e-01,  1.4142e+00],\n",
      "        [ 7.9676e-01,  1.6438e+00,  1.2635e+00,  1.3314e+00,  1.7109e+00,\n",
      "         -7.0711e-01, -7.0711e-01,  1.4142e+00]], dtype=torch.float64)\n"
     ]
    }
   ],
   "source": [
    "print(x.size())\n",
    "print(y.size())\n",
    "print(x)"
   ]
  },
  {
   "cell_type": "code",
   "execution_count": 10,
   "id": "e3040860",
   "metadata": {},
   "outputs": [
    {
     "name": "stderr",
     "output_type": "stream",
     "text": [
      "[running kmeans]: 3it [00:00, 176.95it/s, center_shift=0.000000, iteration=4, tol=0.000100]"
     ]
    },
    {
     "name": "stdout",
     "output_type": "stream",
     "text": [
      "running k-means on cpu..\n"
     ]
    }
   ],
   "source": [
    "num_clusters = 3\n",
    "cluster_ids_x, cluster_centers = kmeans(\n",
    "    X=x, num_clusters=num_clusters, distance='euclidean', device=device\n",
    ")"
   ]
  },
  {
   "cell_type": "code",
   "execution_count": 11,
   "id": "677ce56e",
   "metadata": {},
   "outputs": [
    {
     "name": "stdout",
     "output_type": "stream",
     "text": [
      "tensor([2, 2, 1, 1, 0, 0, 2, 1, 1, 0, 0, 1, 2, 2, 2, 2, 2, 0, 1, 1, 2, 1, 1, 0,\n",
      "        0, 0, 0, 2, 0, 2, 1, 2, 0, 1, 1, 2, 0, 2, 2, 1, 0, 0, 2, 1, 2, 0, 0, 1,\n",
      "        2, 2, 1, 1, 0, 0, 2, 1, 1, 0, 1, 0, 2, 1, 2, 1, 1, 0, 1, 1, 0, 2, 0, 0,\n",
      "        0, 1, 1, 0, 2, 1, 1, 0, 0, 0, 2, 0, 0, 0, 2, 1, 1, 0, 2, 2, 2, 2, 1, 0,\n",
      "        1, 0, 0, 1, 0, 2, 0, 2, 2, 1, 0, 1, 2, 2, 0, 0, 2, 2, 0, 1, 0, 0, 2, 2])\n",
      "tensor([[-0.0063,  0.1292, -0.6246,  0.2742,  0.1631, -0.7071,  1.4142, -0.7071],\n",
      "        [-1.1850, -1.0022,  0.8757, -1.3028, -1.2384,  1.4142, -0.7071, -0.7071],\n",
      "        [ 1.1509,  0.9013, -0.2199,  1.0354,  1.0906, -0.7071, -0.7071,  1.4142]])\n"
     ]
    }
   ],
   "source": [
    "print(cluster_ids_x)\n",
    "print(cluster_centers)"
   ]
  },
  {
   "cell_type": "code",
   "execution_count": 12,
   "id": "ded0b820",
   "metadata": {},
   "outputs": [
    {
     "name": "stdout",
     "output_type": "stream",
     "text": [
      "predicting on cpu..\n"
     ]
    }
   ],
   "source": [
    "cluster_ids_y = kmeans_predict(\n",
    "    y, cluster_centers, 'euclidean', device=device\n",
    ")"
   ]
  },
  {
   "cell_type": "code",
   "execution_count": 13,
   "id": "f74955c9",
   "metadata": {},
   "outputs": [
    {
     "name": "stdout",
     "output_type": "stream",
     "text": [
      "tensor([0, 2, 2, 0, 1, 2, 0, 1, 1, 0, 2, 1, 0, 2, 2, 2, 1, 1, 0, 1, 1, 2, 1, 2,\n",
      "        1, 1, 1, 2, 2, 1])\n"
     ]
    }
   ],
   "source": [
    "print(cluster_ids_y)"
   ]
  },
  {
   "cell_type": "code",
   "execution_count": 14,
   "id": "b870d391",
   "metadata": {},
   "outputs": [
    {
     "name": "stderr",
     "output_type": "stream",
     "text": [
      "[running kmeans]: 4it [00:03,  1.06it/s, center_shift=0.000000, iteration=4, tol=0.000100] \n"
     ]
    },
    {
     "data": {
      "image/png": "[encoded data removed]",
      "text/plain": [
       "<Figure size 640x480 with 1 Axes>"
      ]
     },
     "metadata": {
      "needs_background": "light"
     },
     "output_type": "display_data"
    }
   ],
   "source": [
    "plt.figure(figsize=(4, 3), dpi=160)\n",
    "plt.scatter(y[:, 0], y[:, 1],c=cluster_ids_y, cmap='viridis', marker='x')\n",
    "\n",
    "plt.scatter(\n",
    "    cluster_centers[:, 0], cluster_centers[:, 1],\n",
    "    c='white',\n",
    "    alpha=0.6,\n",
    "    edgecolors='black',\n",
    "    linewidths=2\n",
    ")\n",
    "\n",
    "plt.tight_layout()\n",
    "plt.show()"
   ]
  },
  {
   "cell_type": "code",
   "execution_count": 1,
   "id": "3681fa91",
   "metadata": {},
   "outputs": [],
   "source": [
    "#11.2.2 Gaussian Mixture Model"
   ]
  },
  {
   "cell_type": "code",
   "execution_count": 2,
   "id": "b803ec4d",
   "metadata": {},
   "outputs": [],
   "source": [
    "import numpy as np\n",
    "import matplotlib.pyplot as plt\n",
    "from sklearn.mixture import GaussianMixture\n",
    "X_train = np.load('../chap11/data/data.npy')"
   ]
  },
  {
   "cell_type": "code",
   "execution_count": 3,
   "id": "d3bcb29b",
   "metadata": {},
   "outputs": [
    {
     "name": "stdout",
     "output_type": "stream",
     "text": [
      "[[1.60629419 1.3470999 ]\n",
      " [3.0363831  3.09828041]]\n",
      "\n",
      "\n",
      "[[[ 0.75275611 -0.5054196 ]\n",
      "  [-0.5054196   0.74286061]]\n",
      "\n",
      " [[ 0.8465178   0.38644336]\n",
      "  [ 0.38644336  0.73395863]]]\n"
     ]
    },
    {
     "data": {
      "image/png": "[encoded data removed]",
      "text/plain": [
       "<Figure size 432x288 with 1 Axes>"
      ]
     },
     "metadata": {
      "needs_background": "light"
     },
     "output_type": "display_data"
    }
   ],
   "source": [
    "gmm = GaussianMixture(n_components=2)\n",
    "gmm.fit(X_train)\n",
    "\n",
    "print(gmm.means_)\n",
    "print('\\n')\n",
    "print(gmm.covariances_)\n",
    "\n",
    "X, Y = np.meshgrid(np.linspace(-1, 6), np.linspace(-1,6))\n",
    "XX = np.array([X.ravel(), Y.ravel()]).T\n",
    "Z = gmm.score_samples(XX)\n",
    "Z = Z.reshape((50,50))\n",
    "\n",
    "plt.contour(X, Y, Z)\n",
    "plt.scatter(X_train[:, 0], X_train[:, 1])\n",
    "plt.show()"
   ]
  },
  {
   "cell_type": "code",
   "execution_count": 1,
   "id": "3ca6411a",
   "metadata": {},
   "outputs": [],
   "source": [
    "#11.2.3 자기조직화 지도 (Self-Organizing Map, SOM)"
   ]
  },
  {
   "cell_type": "code",
   "execution_count": 2,
   "id": "6b302e59",
   "metadata": {},
   "outputs": [],
   "source": [
    "#!pip install minisom\n",
    "import numpy as np\n",
    "from sklearn.datasets import load_digits\n",
    "from minisom import MiniSom  \n",
    "from pylab import plot,axis,show,pcolor,colorbar,bone\n",
    "\n",
    "digits = load_digits()\n",
    "data = digits.data\n",
    "labels = digits.target"
   ]
  },
  {
   "cell_type": "code",
   "execution_count": 3,
   "id": "b67399ff",
   "metadata": {},
   "outputs": [
    {
     "name": "stdout",
     "output_type": "stream",
     "text": [
      "SOM 초기화.\n",
      "\n",
      ". SOM 진행 종료\n"
     ]
    },
    {
     "data": {
      "image/png": "[encoded data removed]",
      "text/plain": [
       "<Figure size 432x288 with 2 Axes>"
      ]
     },
     "metadata": {
      "needs_background": "light"
     },
     "output_type": "display_data"
    }
   ],
   "source": [
    "som = MiniSom(16,16,64,sigma=1.0,learning_rate=0.5)\n",
    "som.random_weights_init(data)\n",
    "print(\"SOM 초기화.\")\n",
    "som.train_random(data,10000) \n",
    "print(\"\\n. SOM 진행 종료\")\n",
    "\n",
    "bone()\n",
    "pcolor(som.distance_map().T) \n",
    "colorbar()"
   ]
  },
  {
   "cell_type": "code",
   "execution_count": 4,
   "id": "6fe1603e",
   "metadata": {},
   "outputs": [
    {
     "name": "stderr",
     "output_type": "stream",
     "text": [
      "<ipython-input-4-32d2b7974d5b>:1: FutureWarning: elementwise comparison failed; returning scalar instead, but in the future will perform elementwise comparison\n",
      "  labels[labels == '0'] = 0\n",
      "<ipython-input-4-32d2b7974d5b>:2: FutureWarning: elementwise comparison failed; returning scalar instead, but in the future will perform elementwise comparison\n",
      "  labels[labels == '1'] = 1\n",
      "<ipython-input-4-32d2b7974d5b>:3: FutureWarning: elementwise comparison failed; returning scalar instead, but in the future will perform elementwise comparison\n",
      "  labels[labels == '2'] = 2\n",
      "<ipython-input-4-32d2b7974d5b>:4: FutureWarning: elementwise comparison failed; returning scalar instead, but in the future will perform elementwise comparison\n",
      "  labels[labels == '3'] = 3\n",
      "<ipython-input-4-32d2b7974d5b>:5: FutureWarning: elementwise comparison failed; returning scalar instead, but in the future will perform elementwise comparison\n",
      "  labels[labels == '4'] = 4\n",
      "<ipython-input-4-32d2b7974d5b>:6: FutureWarning: elementwise comparison failed; returning scalar instead, but in the future will perform elementwise comparison\n",
      "  labels[labels == '5'] = 5\n",
      "<ipython-input-4-32d2b7974d5b>:7: FutureWarning: elementwise comparison failed; returning scalar instead, but in the future will perform elementwise comparison\n",
      "  labels[labels == '6'] = 6\n",
      "<ipython-input-4-32d2b7974d5b>:8: FutureWarning: elementwise comparison failed; returning scalar instead, but in the future will perform elementwise comparison\n",
      "  labels[labels == '7'] = 7\n",
      "<ipython-input-4-32d2b7974d5b>:9: FutureWarning: elementwise comparison failed; returning scalar instead, but in the future will perform elementwise comparison\n",
      "  labels[labels == '8'] = 8\n",
      "<ipython-input-4-32d2b7974d5b>:10: FutureWarning: elementwise comparison failed; returning scalar instead, but in the future will perform elementwise comparison\n",
      "  labels[labels == '9'] = 9\n"
     ]
    },
    {
     "data": {
      "image/png": "[encoded data removed]",
      "text/plain": [
       "<Figure size 432x288 with 1 Axes>"
      ]
     },
     "metadata": {
      "needs_background": "light"
     },
     "output_type": "display_data"
    }
   ],
   "source": [
    "labels[labels == '0'] = 0\n",
    "labels[labels == '1'] = 1\n",
    "labels[labels == '2'] = 2\n",
    "labels[labels == '3'] = 3\n",
    "labels[labels == '4'] = 4\n",
    "labels[labels == '5'] = 5\n",
    "labels[labels == '6'] = 6\n",
    "labels[labels == '7'] = 7\n",
    "labels[labels == '8'] = 8\n",
    "labels[labels == '9'] = 9\n",
    "\n",
    "markers = ['o', 'v', '1', '3', '8', 's', 'p', 'x', 'D', '*']\n",
    "colors = [\"r\", \"g\", \"b\", \"y\", \"c\", (0,0.1,0.8), (1,0.5,0), (1,1,0.3), \"m\", (0.4,0.6,0)]\n",
    "for cnt,xx in enumerate(data):\n",
    "   w = som.winner(xx) \n",
    "   plot(w[0]+.5,w[1]+.5,markers[labels[cnt]],    \n",
    "   markerfacecolor='None', markeredgecolor=colors[labels[cnt]], \n",
    "   markersize=12, markeredgewidth=2)\n",
    "show()"
   ]
  },
  {
   "cell_type": "code",
   "execution_count": null,
   "id": "684281c3",
   "metadata": {},
   "outputs": [],
   "source": []
  }
 ],
 "metadata": {
  "kernelspec": {
   "display_name": "Python 3 (ipykernel)",
   "language": "python",
   "name": "python3"
  },
  "language_info": {
   "codemirror_mode": {
    "name": "ipython",
    "version": 3
   },
   "file_extension": ".py",
   "mimetype": "text/x-python",
   "name": "python",
   "nbconvert_exporter": "python",
   "pygments_lexer": "ipython3",
   "version": "3.8.12"
  }
 },
 "nbformat": 4,
 "nbformat_minor": 5
}
