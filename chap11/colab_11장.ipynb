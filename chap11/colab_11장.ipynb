{
  "cells": [
    {
      "cell_type": "code",
      "execution_count": null,
      "id": "f153fea7",
      "metadata": {
        "id": "f153fea7"
      },
      "outputs": [],
      "source": [
        "#11.2.1 K-Means"
      ]
    },
    {
      "cell_type": "code",
      "source": [
        "!pip install kmeans_pytorch"
      ],
      "metadata": {
        "colab": {
          "base_uri": "https://localhost:8080/"
        },
        "id": "4RkdqOo4hEwj",
        "outputId": "0cec46e0-0738-4771-ff50-a8bfbe8d4661"
      },
      "id": "4RkdqOo4hEwj",
      "execution_count": 1,
      "outputs": [
        {
          "output_type": "stream",
          "name": "stdout",
          "text": [
            "Collecting kmeans_pytorch\n",
            "  Downloading kmeans_pytorch-0.3-py3-none-any.whl (4.4 kB)\n",
            "Installing collected packages: kmeans-pytorch\n",
            "Successfully installed kmeans-pytorch-0.3\n"
          ]
        }
      ]
    },
    {
      "cell_type": "code",
      "execution_count": 2,
      "id": "2d5563c7",
      "metadata": {
        "id": "2d5563c7"
      },
      "outputs": [],
      "source": [
        "import pandas as pd\n",
        "from sklearn.model_selection import train_test_split\n",
        "import torch\n",
        "from kmeans_pytorch import kmeans, kmeans_predict\n",
        "import matplotlib.pyplot as plt"
      ]
    },
    {
      "cell_type": "code",
      "source": [
        "from google.colab import files # 데이터 불러오기\n",
        "file_uploaded=files.upload()   # chap11/data/iris.csv 데이터 불러오기"
      ],
      "metadata": {
        "colab": {
          "resources": {
            "http://localhost:8080/nbextensions/google.colab/files.js": {
              "data": "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",
              "ok": true,
              "headers": [
                [
                  "content-type",
                  "application/javascript"
                ]
              ],
              "status": 200,
              "status_text": ""
            }
          },
          "base_uri": "https://localhost:8080/",
          "height": 77
        },
        "id": "HuWkye_Kg5OR",
        "outputId": "19308a51-534b-4815-a91e-953f1ed13677"
      },
      "id": "HuWkye_Kg5OR",
      "execution_count": 3,
      "outputs": [
        {
          "output_type": "display_data",
          "data": {
            "text/html": [
              "\n",
              "     <input type=\"file\" id=\"files-4faf518a-8ddb-4e8e-a994-678763006728\" name=\"files[]\" multiple disabled\n",
              "        style=\"border:none\" />\n",
              "     <output id=\"result-4faf518a-8ddb-4e8e-a994-678763006728\">\n",
              "      Upload widget is only available when the cell has been executed in the\n",
              "      current browser session. Please rerun this cell to enable.\n",
              "      </output>\n",
              "      <script src=\"/nbextensions/google.colab/files.js\"></script> "
            ],
            "text/plain": [
              "<IPython.core.display.HTML object>"
            ]
          },
          "metadata": {}
        },
        {
          "output_type": "stream",
          "name": "stdout",
          "text": [
            "Saving Iris.csv to Iris.csv\n"
          ]
        }
      ]
    },
    {
      "cell_type": "code",
      "execution_count": 8,
      "id": "01becd8a",
      "metadata": {
        "colab": {
          "base_uri": "https://localhost:8080/"
        },
        "id": "01becd8a",
        "outputId": "b783ebae-4fec-4ec4-c163-7e59765a38f4"
      },
      "outputs": [
        {
          "output_type": "stream",
          "name": "stdout",
          "text": [
            "<class 'pandas.core.frame.DataFrame'>\n",
            "RangeIndex: 150 entries, 0 to 149\n",
            "Data columns (total 6 columns):\n",
            " #   Column         Non-Null Count  Dtype  \n",
            "---  ------         --------------  -----  \n",
            " 0   Id             150 non-null    int64  \n",
            " 1   SepalLengthCm  150 non-null    float64\n",
            " 2   SepalWidthCm   150 non-null    float64\n",
            " 3   PetalLengthCm  150 non-null    float64\n",
            " 4   PetalWidthCm   150 non-null    float64\n",
            " 5   Species        150 non-null    object \n",
            "dtypes: float64(4), int64(1), object(1)\n",
            "memory usage: 7.2+ KB\n",
            "------------------------------------------\n",
            "      Id  SepalLengthCm  ...  PetalWidthCm         Species\n",
            "0      1            5.1  ...           0.2     Iris-setosa\n",
            "1      2            4.9  ...           0.2     Iris-setosa\n",
            "2      3            4.7  ...           0.2     Iris-setosa\n",
            "3      4            4.6  ...           0.2     Iris-setosa\n",
            "4      5            5.0  ...           0.2     Iris-setosa\n",
            "..   ...            ...  ...           ...             ...\n",
            "145  146            6.7  ...           2.3  Iris-virginica\n",
            "146  147            6.3  ...           1.9  Iris-virginica\n",
            "147  148            6.5  ...           2.0  Iris-virginica\n",
            "148  149            6.2  ...           2.3  Iris-virginica\n",
            "149  150            5.9  ...           1.8  Iris-virginica\n",
            "\n",
            "[150 rows x 6 columns]\n"
          ]
        }
      ],
      "source": [
        "df = pd.read_csv('/content/Iris.csv') #불러온 데이터의 경로 입력\n",
        "df.info()\n",
        "print('------------------------------------------')\n",
        "print(df)"
      ]
    },
    {
      "cell_type": "code",
      "execution_count": 9,
      "id": "de4d28fd",
      "metadata": {
        "colab": {
          "base_uri": "https://localhost:8080/",
          "height": 423
        },
        "id": "de4d28fd",
        "outputId": "a4ef69a4-fa57-4ff2-ab13-9fe3734f2383"
      },
      "outputs": [
        {
          "output_type": "execute_result",
          "data": {
            "text/html": [
              "\n",
              "  <div id=\"df-d8e0d410-4db0-4b4a-bc8b-70aedc7530c8\">\n",
              "    <div class=\"colab-df-container\">\n",
              "      <div>\n",
              "<style scoped>\n",
              "    .dataframe tbody tr th:only-of-type {\n",
              "        vertical-align: middle;\n",
              "    }\n",
              "\n",
              "    .dataframe tbody tr th {\n",
              "        vertical-align: top;\n",
              "    }\n",
              "\n",
              "    .dataframe thead th {\n",
              "        text-align: right;\n",
              "    }\n",
              "</style>\n",
              "<table border=\"1\" class=\"dataframe\">\n",
              "  <thead>\n",
              "    <tr style=\"text-align: right;\">\n",
              "      <th></th>\n",
              "      <th>Id</th>\n",
              "      <th>SepalLengthCm</th>\n",
              "      <th>SepalWidthCm</th>\n",
              "      <th>PetalLengthCm</th>\n",
              "      <th>PetalWidthCm</th>\n",
              "      <th>Species_Iris-setosa</th>\n",
              "      <th>Species_Iris-versicolor</th>\n",
              "      <th>Species_Iris-virginica</th>\n",
              "    </tr>\n",
              "  </thead>\n",
              "  <tbody>\n",
              "    <tr>\n",
              "      <th>0</th>\n",
              "      <td>1</td>\n",
              "      <td>5.1</td>\n",
              "      <td>3.5</td>\n",
              "      <td>1.4</td>\n",
              "      <td>0.2</td>\n",
              "      <td>1</td>\n",
              "      <td>0</td>\n",
              "      <td>0</td>\n",
              "    </tr>\n",
              "    <tr>\n",
              "      <th>1</th>\n",
              "      <td>2</td>\n",
              "      <td>4.9</td>\n",
              "      <td>3.0</td>\n",
              "      <td>1.4</td>\n",
              "      <td>0.2</td>\n",
              "      <td>1</td>\n",
              "      <td>0</td>\n",
              "      <td>0</td>\n",
              "    </tr>\n",
              "    <tr>\n",
              "      <th>2</th>\n",
              "      <td>3</td>\n",
              "      <td>4.7</td>\n",
              "      <td>3.2</td>\n",
              "      <td>1.3</td>\n",
              "      <td>0.2</td>\n",
              "      <td>1</td>\n",
              "      <td>0</td>\n",
              "      <td>0</td>\n",
              "    </tr>\n",
              "    <tr>\n",
              "      <th>3</th>\n",
              "      <td>4</td>\n",
              "      <td>4.6</td>\n",
              "      <td>3.1</td>\n",
              "      <td>1.5</td>\n",
              "      <td>0.2</td>\n",
              "      <td>1</td>\n",
              "      <td>0</td>\n",
              "      <td>0</td>\n",
              "    </tr>\n",
              "    <tr>\n",
              "      <th>4</th>\n",
              "      <td>5</td>\n",
              "      <td>5.0</td>\n",
              "      <td>3.6</td>\n",
              "      <td>1.4</td>\n",
              "      <td>0.2</td>\n",
              "      <td>1</td>\n",
              "      <td>0</td>\n",
              "      <td>0</td>\n",
              "    </tr>\n",
              "    <tr>\n",
              "      <th>...</th>\n",
              "      <td>...</td>\n",
              "      <td>...</td>\n",
              "      <td>...</td>\n",
              "      <td>...</td>\n",
              "      <td>...</td>\n",
              "      <td>...</td>\n",
              "      <td>...</td>\n",
              "      <td>...</td>\n",
              "    </tr>\n",
              "    <tr>\n",
              "      <th>145</th>\n",
              "      <td>146</td>\n",
              "      <td>6.7</td>\n",
              "      <td>3.0</td>\n",
              "      <td>5.2</td>\n",
              "      <td>2.3</td>\n",
              "      <td>0</td>\n",
              "      <td>0</td>\n",
              "      <td>1</td>\n",
              "    </tr>\n",
              "    <tr>\n",
              "      <th>146</th>\n",
              "      <td>147</td>\n",
              "      <td>6.3</td>\n",
              "      <td>2.5</td>\n",
              "      <td>5.0</td>\n",
              "      <td>1.9</td>\n",
              "      <td>0</td>\n",
              "      <td>0</td>\n",
              "      <td>1</td>\n",
              "    </tr>\n",
              "    <tr>\n",
              "      <th>147</th>\n",
              "      <td>148</td>\n",
              "      <td>6.5</td>\n",
              "      <td>3.0</td>\n",
              "      <td>5.2</td>\n",
              "      <td>2.0</td>\n",
              "      <td>0</td>\n",
              "      <td>0</td>\n",
              "      <td>1</td>\n",
              "    </tr>\n",
              "    <tr>\n",
              "      <th>148</th>\n",
              "      <td>149</td>\n",
              "      <td>6.2</td>\n",
              "      <td>3.4</td>\n",
              "      <td>5.4</td>\n",
              "      <td>2.3</td>\n",
              "      <td>0</td>\n",
              "      <td>0</td>\n",
              "      <td>1</td>\n",
              "    </tr>\n",
              "    <tr>\n",
              "      <th>149</th>\n",
              "      <td>150</td>\n",
              "      <td>5.9</td>\n",
              "      <td>3.0</td>\n",
              "      <td>5.1</td>\n",
              "      <td>1.8</td>\n",
              "      <td>0</td>\n",
              "      <td>0</td>\n",
              "      <td>1</td>\n",
              "    </tr>\n",
              "  </tbody>\n",
              "</table>\n",
              "<p>150 rows × 8 columns</p>\n",
              "</div>\n",
              "      <button class=\"colab-df-convert\" onclick=\"convertToInteractive('df-d8e0d410-4db0-4b4a-bc8b-70aedc7530c8')\"\n",
              "              title=\"Convert this dataframe to an interactive table.\"\n",
              "              style=\"display:none;\">\n",
              "        \n",
              "  <svg xmlns=\"http://www.w3.org/2000/svg\" height=\"24px\"viewBox=\"0 0 24 24\"\n",
              "       width=\"24px\">\n",
              "    <path d=\"M0 0h24v24H0V0z\" fill=\"none\"/>\n",
              "    <path d=\"M18.56 5.44l.94 2.06.94-2.06 2.06-.94-2.06-.94-.94-2.06-.94 2.06-2.06.94zm-11 1L8.5 8.5l.94-2.06 2.06-.94-2.06-.94L8.5 2.5l-.94 2.06-2.06.94zm10 10l.94 2.06.94-2.06 2.06-.94-2.06-.94-.94-2.06-.94 2.06-2.06.94z\"/><path d=\"M17.41 7.96l-1.37-1.37c-.4-.4-.92-.59-1.43-.59-.52 0-1.04.2-1.43.59L10.3 9.45l-7.72 7.72c-.78.78-.78 2.05 0 2.83L4 21.41c.39.39.9.59 1.41.59.51 0 1.02-.2 1.41-.59l7.78-7.78 2.81-2.81c.8-.78.8-2.07 0-2.86zM5.41 20L4 18.59l7.72-7.72 1.47 1.35L5.41 20z\"/>\n",
              "  </svg>\n",
              "      </button>\n",
              "      \n",
              "  <style>\n",
              "    .colab-df-container {\n",
              "      display:flex;\n",
              "      flex-wrap:wrap;\n",
              "      gap: 12px;\n",
              "    }\n",
              "\n",
              "    .colab-df-convert {\n",
              "      background-color: #E8F0FE;\n",
              "      border: none;\n",
              "      border-radius: 50%;\n",
              "      cursor: pointer;\n",
              "      display: none;\n",
              "      fill: #1967D2;\n",
              "      height: 32px;\n",
              "      padding: 0 0 0 0;\n",
              "      width: 32px;\n",
              "    }\n",
              "\n",
              "    .colab-df-convert:hover {\n",
              "      background-color: #E2EBFA;\n",
              "      box-shadow: 0px 1px 2px rgba(60, 64, 67, 0.3), 0px 1px 3px 1px rgba(60, 64, 67, 0.15);\n",
              "      fill: #174EA6;\n",
              "    }\n",
              "\n",
              "    [theme=dark] .colab-df-convert {\n",
              "      background-color: #3B4455;\n",
              "      fill: #D2E3FC;\n",
              "    }\n",
              "\n",
              "    [theme=dark] .colab-df-convert:hover {\n",
              "      background-color: #434B5C;\n",
              "      box-shadow: 0px 1px 3px 1px rgba(0, 0, 0, 0.15);\n",
              "      filter: drop-shadow(0px 1px 2px rgba(0, 0, 0, 0.3));\n",
              "      fill: #FFFFFF;\n",
              "    }\n",
              "  </style>\n",
              "\n",
              "      <script>\n",
              "        const buttonEl =\n",
              "          document.querySelector('#df-d8e0d410-4db0-4b4a-bc8b-70aedc7530c8 button.colab-df-convert');\n",
              "        buttonEl.style.display =\n",
              "          google.colab.kernel.accessAllowed ? 'block' : 'none';\n",
              "\n",
              "        async function convertToInteractive(key) {\n",
              "          const element = document.querySelector('#df-d8e0d410-4db0-4b4a-bc8b-70aedc7530c8');\n",
              "          const dataTable =\n",
              "            await google.colab.kernel.invokeFunction('convertToInteractive',\n",
              "                                                     [key], {});\n",
              "          if (!dataTable) return;\n",
              "\n",
              "          const docLinkHtml = 'Like what you see? Visit the ' +\n",
              "            '<a target=\"_blank\" href=https://colab.research.google.com/notebooks/data_table.ipynb>data table notebook</a>'\n",
              "            + ' to learn more about interactive tables.';\n",
              "          element.innerHTML = '';\n",
              "          dataTable['output_type'] = 'display_data';\n",
              "          await google.colab.output.renderOutput(dataTable, element);\n",
              "          const docLink = document.createElement('div');\n",
              "          docLink.innerHTML = docLinkHtml;\n",
              "          element.appendChild(docLink);\n",
              "        }\n",
              "      </script>\n",
              "    </div>\n",
              "  </div>\n",
              "  "
            ],
            "text/plain": [
              "      Id  SepalLengthCm  ...  Species_Iris-versicolor  Species_Iris-virginica\n",
              "0      1            5.1  ...                        0                       0\n",
              "1      2            4.9  ...                        0                       0\n",
              "2      3            4.7  ...                        0                       0\n",
              "3      4            4.6  ...                        0                       0\n",
              "4      5            5.0  ...                        0                       0\n",
              "..   ...            ...  ...                      ...                     ...\n",
              "145  146            6.7  ...                        0                       1\n",
              "146  147            6.3  ...                        0                       1\n",
              "147  148            6.5  ...                        0                       1\n",
              "148  149            6.2  ...                        0                       1\n",
              "149  150            5.9  ...                        0                       1\n",
              "\n",
              "[150 rows x 8 columns]"
            ]
          },
          "metadata": {},
          "execution_count": 9
        }
      ],
      "source": [
        "data=pd.get_dummies(df, columns=['Species'])\n",
        "data"
      ]
    },
    {
      "cell_type": "code",
      "execution_count": 10,
      "id": "69edc39e",
      "metadata": {
        "id": "69edc39e"
      },
      "outputs": [],
      "source": [
        "from sklearn.model_selection import train_test_split\n",
        "x, y = train_test_split(data, test_size=0.2, random_state=123)"
      ]
    },
    {
      "cell_type": "code",
      "execution_count": 11,
      "id": "3d9efaee",
      "metadata": {
        "id": "3d9efaee"
      },
      "outputs": [],
      "source": [
        "if torch.cuda.is_available():\n",
        "    device = torch.device('cuda:0')\n",
        "else:\n",
        "    device = torch.device('cpu')"
      ]
    },
    {
      "cell_type": "code",
      "execution_count": 12,
      "id": "885823bb",
      "metadata": {
        "id": "885823bb"
      },
      "outputs": [],
      "source": [
        "from sklearn.preprocessing import StandardScaler\n",
        "scaler = StandardScaler()\n",
        "X_scaled = scaler.fit(data).transform(x)\n",
        "y_scaled = scaler.fit(y).transform(y)"
      ]
    },
    {
      "cell_type": "code",
      "execution_count": 13,
      "id": "e4ba98b2",
      "metadata": {
        "id": "e4ba98b2"
      },
      "outputs": [],
      "source": [
        "x = torch.from_numpy(X_scaled)\n",
        "y = torch.from_numpy(y_scaled)"
      ]
    },
    {
      "cell_type": "code",
      "execution_count": 14,
      "id": "980f44d8",
      "metadata": {
        "colab": {
          "base_uri": "https://localhost:8080/"
        },
        "id": "980f44d8",
        "outputId": "6a9b026d-7335-4d45-b997-1a7a3e24e500"
      },
      "outputs": [
        {
          "output_type": "stream",
          "name": "stdout",
          "text": [
            "torch.Size([120, 8])\n",
            "torch.Size([30, 8])\n",
            "tensor([[ 1.2817e+00,  1.8862e+00, -5.8776e-01,  1.3314e+00,  9.2206e-01,\n",
            "         -7.0711e-01, -7.0711e-01,  1.4142e+00],\n",
            "        [ 1.0277e+00,  1.8983e-01, -1.9762e+00,  7.0589e-01,  3.9617e-01,\n",
            "         -7.0711e-01, -7.0711e-01,  1.4142e+00],\n",
            "        [-1.0508e+00, -1.3854e+00,  3.3785e-01, -1.2275e+00, -1.3130e+00,\n",
            "          1.4142e+00, -7.0711e-01, -7.0711e-01],\n",
            "        [-1.7205e+00, -9.0068e-01,  1.0321e+00, -1.3413e+00, -1.3130e+00,\n",
            "          1.4142e+00, -7.0711e-01, -7.0711e-01],\n",
            "        [-2.8868e-01,  1.8983e-01, -1.9762e+00,  1.3724e-01, -2.6119e-01,\n",
            "         -7.0711e-01,  1.4142e+00, -7.0711e-01],\n",
            "        [ 4.2725e-01, -1.0218e+00, -1.7448e+00, -2.6082e-01, -2.6119e-01,\n",
            "         -7.0711e-01,  1.4142e+00, -7.0711e-01],\n",
            "        [ 1.3048e+00,  2.4920e+00,  1.7263e+00,  1.5020e+00,  1.0535e+00,\n",
            "         -7.0711e-01, -7.0711e-01,  1.4142e+00],\n",
            "        [-1.6051e+00, -5.3718e-01,  1.9577e+00, -1.1707e+00, -1.0500e+00,\n",
            "          1.4142e+00, -7.0711e-01, -7.0711e-01],\n",
            "        [-1.3510e+00, -5.3718e-01,  1.9577e+00, -1.3981e+00, -1.0500e+00,\n",
            "          1.4142e+00, -7.0711e-01, -7.0711e-01],\n",
            "        [ 1.7321e-01, -5.2506e-02, -8.1917e-01,  8.0370e-02,  1.7530e-03,\n",
            "         -7.0711e-01,  1.4142e+00, -7.0711e-01],\n",
            "        [-3.3487e-01, -1.0218e+00, -2.4390e+00, -1.4709e-01, -2.6119e-01,\n",
            "         -7.0711e-01,  1.4142e+00, -7.0711e-01],\n",
            "        [-9.1223e-01, -1.0218e+00,  3.3785e-01, -1.4550e+00, -1.3130e+00,\n",
            "          1.4142e+00, -7.0711e-01, -7.0711e-01],\n",
            "        [ 1.5820e+00,  1.1592e+00,  3.3785e-01,  1.2177e+00,  1.4480e+00,\n",
            "         -7.0711e-01, -7.0711e-01,  1.4142e+00],\n",
            "        [ 1.6282e+00,  1.0380e+00, -1.2496e-01,  8.1962e-01,  1.4480e+00,\n",
            "         -7.0711e-01, -7.0711e-01,  1.4142e+00],\n",
            "        [ 1.5589e+00, -5.2506e-02, -8.1917e-01,  7.6276e-01,  9.2206e-01,\n",
            "         -7.0711e-01, -7.0711e-01,  1.4142e+00],\n",
            "        [ 9.1223e-01, -5.2506e-02, -5.8776e-01,  7.6276e-01,  1.5794e+00,\n",
            "         -7.0711e-01, -7.0711e-01,  1.4142e+00],\n",
            "        [ 1.4203e+00,  5.5333e-01,  8.0065e-01,  1.0471e+00,  1.5794e+00,\n",
            "         -7.0711e-01, -7.0711e-01,  1.4142e+00],\n",
            "        [-4.9653e-01, -4.1601e-01, -1.7448e+00,  1.3724e-01,  1.3323e-01,\n",
            "         -7.0711e-01,  1.4142e+00, -7.0711e-01],\n",
            "        [-1.2817e+00, -9.0068e-01,  1.7263e+00, -1.2844e+00, -1.1815e+00,\n",
            "          1.4142e+00, -7.0711e-01, -7.0711e-01],\n",
            "        [-8.4295e-01, -1.7489e+00, -1.2496e-01, -1.3981e+00, -1.3130e+00,\n",
            "          1.4142e+00, -7.0711e-01, -7.0711e-01],\n",
            "        [ 8.1986e-01,  7.9567e-01,  3.3785e-01,  7.6276e-01,  1.0535e+00,\n",
            "         -7.0711e-01, -7.0711e-01,  1.4142e+00],\n",
            "        [-1.1894e+00, -9.0068e-01,  5.6925e-01, -1.1707e+00, -9.1856e-01,\n",
            "          1.4142e+00, -7.0711e-01, -7.0711e-01],\n",
            "        [-1.5127e+00, -1.1430e+00,  1.0645e-01, -1.2844e+00, -1.4444e+00,\n",
            "          1.4142e+00, -7.0711e-01, -7.0711e-01],\n",
            "        [ 2.6559e-01,  1.0380e+00,  1.0645e-01,  5.3530e-01,  3.9617e-01,\n",
            "         -7.0711e-01,  1.4142e+00, -7.0711e-01],\n",
            "        [ 3.8106e-01,  3.1100e-01, -1.2496e-01,  4.7843e-01,  2.6470e-01,\n",
            "         -7.0711e-01,  1.4142e+00, -7.0711e-01],\n",
            "        [ 3.3487e-01, -4.1601e-01, -1.2820e+00,  1.3724e-01,  1.3323e-01,\n",
            "         -7.0711e-01,  1.4142e+00, -7.0711e-01],\n",
            "        [ 1.0393e-01, -1.7367e-01, -1.0506e+00, -1.4709e-01, -2.6119e-01,\n",
            "         -7.0711e-01,  1.4142e+00, -7.0711e-01],\n",
            "        [ 6.1200e-01, -5.2506e-02, -8.1917e-01,  7.6276e-01,  9.2206e-01,\n",
            "         -7.0711e-01, -7.0711e-01,  1.4142e+00],\n",
            "        [-2.1940e-01,  1.0380e+00,  1.0645e-01,  3.6470e-01,  2.6470e-01,\n",
            "         -7.0711e-01,  1.4142e+00, -7.0711e-01],\n",
            "        [ 9.3533e-01,  6.7450e-01,  3.3785e-01,  8.7649e-01,  1.4480e+00,\n",
            "         -7.0711e-01, -7.0711e-01,  1.4142e+00],\n",
            "        [-7.7367e-01, -1.6277e+00, -1.7448e+00, -1.3981e+00, -1.1815e+00,\n",
            "          1.4142e+00, -7.0711e-01, -7.0711e-01],\n",
            "        [ 1.1432e+00,  1.0380e+00,  5.6925e-01,  1.1040e+00,  1.1850e+00,\n",
            "         -7.0711e-01, -7.0711e-01,  1.4142e+00],\n",
            "        [ 4.7344e-01, -1.7367e-01, -1.2496e-01,  2.5097e-01,  1.7530e-03,\n",
            "         -7.0711e-01,  1.4142e+00, -7.0711e-01],\n",
            "        [-1.2356e+00, -9.0068e-01,  1.4949e+00, -1.2844e+00, -1.0500e+00,\n",
            "          1.4142e+00, -7.0711e-01, -7.0711e-01],\n",
            "        [-1.4665e+00, -1.2642e+00,  8.0065e-01, -1.2275e+00, -1.3130e+00,\n",
            "          1.4142e+00, -7.0711e-01, -7.0711e-01],\n",
            "        [ 6.5819e-01,  5.5333e-01, -3.5636e-01,  1.0471e+00,  7.9059e-01,\n",
            "         -7.0711e-01, -7.0711e-01,  1.4142e+00],\n",
            "        [-1.1547e-02,  6.7450e-01, -3.5636e-01,  3.0783e-01,  1.3323e-01,\n",
            "         -7.0711e-01,  1.4142e+00, -7.0711e-01],\n",
            "        [ 1.0970e+00,  2.2497e+00, -5.8776e-01,  1.6726e+00,  1.0535e+00,\n",
            "         -7.0711e-01, -7.0711e-01,  1.4142e+00],\n",
            "        [ 1.0046e+00,  2.2497e+00, -1.0506e+00,  1.7863e+00,  1.4480e+00,\n",
            "         -7.0711e-01, -7.0711e-01,  1.4142e+00],\n",
            "        [-7.0438e-01, -9.0068e-01,  1.7263e+00, -1.0569e+00, -1.0500e+00,\n",
            "          1.4142e+00, -7.0711e-01, -7.0711e-01],\n",
            "        [-5.4272e-01,  6.7450e-01,  3.3785e-01,  4.2156e-01,  3.9617e-01,\n",
            "         -7.0711e-01,  1.4142e+00, -7.0711e-01],\n",
            "        [ 1.5011e-01, -4.1601e-01, -1.5134e+00, -3.3361e-02, -2.6119e-01,\n",
            "         -7.0711e-01,  1.4142e+00, -7.0711e-01],\n",
            "        [ 1.7205e+00,  6.8662e-02, -1.2496e-01,  7.6276e-01,  7.9059e-01,\n",
            "         -7.0711e-01, -7.0711e-01,  1.4142e+00],\n",
            "        [-1.4434e+00, -1.2642e+00, -1.2496e-01, -1.3413e+00, -1.4444e+00,\n",
            "          1.4142e+00, -7.0711e-01, -7.0711e-01],\n",
            "        [ 1.2587e+00,  1.6438e+00, -1.2496e-01,  1.1608e+00,  5.2764e-01,\n",
            "         -7.0711e-01, -7.0711e-01,  1.4142e+00],\n",
            "        [-4.2725e-01,  5.5333e-01,  5.6925e-01,  5.3530e-01,  5.2764e-01,\n",
            "         -7.0711e-01,  1.4142e+00, -7.0711e-01],\n",
            "        [-5.6582e-01,  1.4015e+00,  3.3785e-01,  5.3530e-01,  2.6470e-01,\n",
            "         -7.0711e-01,  1.4142e+00, -7.0711e-01],\n",
            "        [-1.1432e+00, -1.0218e+00, -1.2496e-01, -1.2275e+00, -1.3130e+00,\n",
            "          1.4142e+00, -7.0711e-01, -7.0711e-01],\n",
            "        [ 1.2356e+00,  6.7450e-01, -5.8776e-01,  1.0471e+00,  1.1850e+00,\n",
            "         -7.0711e-01, -7.0711e-01,  1.4142e+00],\n",
            "        [ 1.6513e+00,  5.5333e-01, -1.2820e+00,  7.0589e-01,  9.2206e-01,\n",
            "         -7.0711e-01, -7.0711e-01,  1.4142e+00],\n",
            "        [-7.2748e-01, -1.0218e+00,  1.0321e+00, -1.2275e+00, -7.8708e-01,\n",
            "          1.4142e+00, -7.0711e-01, -7.0711e-01],\n",
            "        [-1.6974e+00, -1.1430e+00, -1.2496e-01, -1.3413e+00, -1.3130e+00,\n",
            "          1.4142e+00, -7.0711e-01, -7.0711e-01],\n",
            "        [-8.0831e-02,  3.1100e-01, -5.8776e-01,  1.3724e-01,  1.3323e-01,\n",
            "         -7.0711e-01,  1.4142e+00, -7.0711e-01],\n",
            "        [-4.7344e-01,  7.9567e-01, -5.8776e-01,  4.7843e-01,  3.9617e-01,\n",
            "         -7.0711e-01,  1.4142e+00, -7.0711e-01],\n",
            "        [ 5.8891e-01,  5.5333e-01,  5.6925e-01,  1.2745e+00,  1.7109e+00,\n",
            "         -7.0711e-01, -7.0711e-01,  1.4142e+00],\n",
            "        [-1.3972e+00, -5.2506e-02,  2.1891e+00, -1.4550e+00, -1.3130e+00,\n",
            "          1.4142e+00, -7.0711e-01, -7.0711e-01],\n",
            "        [-1.5820e+00, -1.5065e+00,  8.0065e-01, -1.3413e+00, -1.1815e+00,\n",
            "          1.4142e+00, -7.0711e-01, -7.0711e-01],\n",
            "        [ 1.2702e-01, -4.1601e-01, -1.5134e+00,  2.3504e-02, -1.2972e-01,\n",
            "         -7.0711e-01,  1.4142e+00, -7.0711e-01],\n",
            "        [-1.1201e+00, -1.0218e+00,  8.0065e-01, -1.2275e+00, -1.0500e+00,\n",
            "          1.4142e+00, -7.0711e-01, -7.0711e-01],\n",
            "        [-1.0393e-01,  6.8662e-02,  3.3785e-01,  5.9216e-01,  7.9059e-01,\n",
            "         -7.0711e-01,  1.4142e+00, -7.0711e-01],\n",
            "        [ 1.4896e+00,  1.2803e+00,  1.0645e-01,  9.3336e-01,  1.1850e+00,\n",
            "         -7.0711e-01, -7.0711e-01,  1.4142e+00],\n",
            "        [-1.0277e+00, -1.2642e+00,  1.0645e-01, -1.2275e+00, -1.3130e+00,\n",
            "          1.4142e+00, -7.0711e-01, -7.0711e-01],\n",
            "        [ 7.7367e-01,  1.0380e+00, -1.2820e+00,  1.1608e+00,  7.9059e-01,\n",
            "         -7.0711e-01, -7.0711e-01,  1.4142e+00],\n",
            "        [-1.3741e+00, -1.7367e-01,  3.1147e+00, -1.2844e+00, -1.0500e+00,\n",
            "          1.4142e+00, -7.0711e-01, -7.0711e-01],\n",
            "        [-1.3048e+00, -1.7367e-01,  1.7263e+00, -1.1707e+00, -1.1815e+00,\n",
            "          1.4142e+00, -7.0711e-01, -7.0711e-01],\n",
            "        [ 5.7736e-02,  1.0380e+00, -1.2496e-01,  7.0589e-01,  6.5912e-01,\n",
            "         -7.0711e-01,  1.4142e+00, -7.0711e-01],\n",
            "        [-1.2125e+00, -1.5065e+00,  1.2635e+00, -1.5687e+00, -1.3130e+00,\n",
            "          1.4142e+00, -7.0711e-01, -7.0711e-01],\n",
            "        [-1.4896e+00, -5.3718e-01,  1.4949e+00, -1.2844e+00, -1.3130e+00,\n",
            "          1.4142e+00, -7.0711e-01, -7.0711e-01],\n",
            "        [-3.8106e-01,  9.1684e-01, -3.5636e-01,  4.7843e-01,  1.3323e-01,\n",
            "         -7.0711e-01,  1.4142e+00, -7.0711e-01],\n",
            "        [ 7.5057e-01,  1.7650e+00, -3.5636e-01,  1.4451e+00,  7.9059e-01,\n",
            "         -7.0711e-01, -7.0711e-01,  1.4142e+00],\n",
            "        [ 1.1547e-02,  9.1684e-01, -1.2496e-01,  3.6470e-01,  2.6470e-01,\n",
            "         -7.0711e-01,  1.4142e+00, -7.0711e-01],\n",
            "        [-2.4249e-01, -2.9484e-01, -3.5636e-01, -9.0227e-02,  1.3323e-01,\n",
            "         -7.0711e-01,  1.4142e+00, -7.0711e-01],\n",
            "        [-1.2702e-01, -2.9484e-01, -1.2820e+00,  8.0370e-02, -1.2972e-01,\n",
            "         -7.0711e-01,  1.4142e+00, -7.0711e-01],\n",
            "        [-1.6513e+00, -1.5065e+00,  1.0645e-01, -1.2844e+00, -1.3130e+00,\n",
            "          1.4142e+00, -7.0711e-01, -7.0711e-01],\n",
            "        [-7.9676e-01, -1.0218e+00,  1.0321e+00, -1.3981e+00, -1.1815e+00,\n",
            "          1.4142e+00, -7.0711e-01, -7.0711e-01],\n",
            "        [ 3.4642e-02,  1.1592e+00, -5.8776e-01,  5.9216e-01,  2.6470e-01,\n",
            "         -7.0711e-01,  1.4142e+00, -7.0711e-01],\n",
            "        [ 1.3741e+00,  3.1100e-01, -1.0506e+00,  1.0471e+00,  2.6470e-01,\n",
            "         -7.0711e-01, -7.0711e-01,  1.4142e+00],\n",
            "        [-9.3533e-01, -1.1430e+00,  1.0645e-01, -1.2844e+00, -1.4444e+00,\n",
            "          1.4142e+00, -7.0711e-01, -7.0711e-01],\n",
            "        [-1.0970e+00, -7.7951e-01,  1.0321e+00, -1.2844e+00, -1.3130e+00,\n",
            "          1.4142e+00, -7.0711e-01, -7.0711e-01],\n",
            "        [ 4.5034e-01, -2.9484e-01, -8.1917e-01,  2.5097e-01,  1.3323e-01,\n",
            "         -7.0711e-01,  1.4142e+00, -7.0711e-01],\n",
            "        [ 2.4249e-01,  1.8983e-01,  8.0065e-01,  4.2156e-01,  5.2764e-01,\n",
            "         -7.0711e-01,  1.4142e+00, -7.0711e-01],\n",
            "        [ 5.1963e-01,  4.3217e-01, -3.5636e-01,  3.0783e-01,  1.3323e-01,\n",
            "         -7.0711e-01,  1.4142e+00, -7.0711e-01],\n",
            "        [ 6.3510e-01,  1.5227e+00, -1.2496e-01,  1.2177e+00,  1.1850e+00,\n",
            "         -7.0711e-01, -7.0711e-01,  1.4142e+00],\n",
            "        [-5.1963e-01,  1.2803e+00,  1.0645e-01,  6.4903e-01,  3.9617e-01,\n",
            "         -7.0711e-01,  1.4142e+00, -7.0711e-01],\n",
            "        [ 4.0415e-01, -5.2506e-02, -1.0506e+00,  1.3724e-01,  1.7530e-03,\n",
            "         -7.0711e-01,  1.4142e+00, -7.0711e-01],\n",
            "        [ 5.6582e-01, -1.7367e-01, -5.8776e-01,  1.9410e-01,  1.3323e-01,\n",
            "         -7.0711e-01,  1.4142e+00, -7.0711e-01],\n",
            "        [ 7.0438e-01,  2.1285e+00, -1.2496e-01,  1.6157e+00,  1.1850e+00,\n",
            "         -7.0711e-01, -7.0711e-01,  1.4142e+00],\n",
            "        [-1.5589e+00, -1.0218e+00,  8.0065e-01, -1.2844e+00, -1.3130e+00,\n",
            "          1.4142e+00, -7.0711e-01, -7.0711e-01],\n",
            "        [-6.1200e-01, -6.5835e-01,  1.4949e+00, -1.2844e+00, -1.3130e+00,\n",
            "          1.4142e+00, -7.0711e-01, -7.0711e-01],\n",
            "        [-3.1178e-01,  6.8662e-02, -1.2496e-01,  2.5097e-01,  3.9617e-01,\n",
            "         -7.0711e-01,  1.4142e+00, -7.0711e-01],\n",
            "        [ 1.0508e+00,  1.2803e+00,  3.3785e-01,  1.1040e+00,  1.4480e+00,\n",
            "         -7.0711e-01, -7.0711e-01,  1.4142e+00],\n",
            "        [ 1.4434e+00,  6.7450e-01,  1.0645e-01,  9.9022e-01,  7.9059e-01,\n",
            "         -7.0711e-01, -7.0711e-01,  1.4142e+00],\n",
            "        [ 1.1663e+00,  1.6438e+00,  3.3785e-01,  1.2745e+00,  7.9059e-01,\n",
            "         -7.0711e-01, -7.0711e-01,  1.4142e+00],\n",
            "        [ 1.6744e+00,  7.9567e-01, -1.2496e-01,  8.1962e-01,  1.0535e+00,\n",
            "         -7.0711e-01, -7.0711e-01,  1.4142e+00],\n",
            "        [-8.1986e-01, -9.0068e-01,  8.0065e-01, -1.2844e+00, -1.3130e+00,\n",
            "          1.4142e+00, -7.0711e-01, -7.0711e-01],\n",
            "        [ 2.1940e-01, -5.3718e-01, -1.2496e-01,  4.2156e-01,  3.9617e-01,\n",
            "         -7.0711e-01,  1.4142e+00, -7.0711e-01],\n",
            "        [-1.6744e+00, -1.3854e+00,  3.3785e-01, -1.3981e+00, -1.3130e+00,\n",
            "          1.4142e+00, -7.0711e-01, -7.0711e-01],\n",
            "        [-1.7321e-01, -5.2506e-02, -8.1917e-01,  1.9410e-01, -2.6119e-01,\n",
            "         -7.0711e-01,  1.4142e+00, -7.0711e-01],\n",
            "        [-4.5034e-01, -1.7367e-01, -5.8776e-01,  4.2156e-01,  1.3323e-01,\n",
            "         -7.0711e-01,  1.4142e+00, -7.0711e-01],\n",
            "        [-5.8891e-01, -1.0218e+00,  5.6925e-01, -1.3413e+00, -1.3130e+00,\n",
            "          1.4142e+00, -7.0711e-01, -7.0711e-01],\n",
            "        [-1.5011e-01,  4.3217e-01, -1.9762e+00,  4.2156e-01,  3.9617e-01,\n",
            "         -7.0711e-01,  1.4142e+00, -7.0711e-01],\n",
            "        [ 1.5127e+00,  1.0380e+00,  1.0645e-01,  1.0471e+00,  1.5794e+00,\n",
            "         -7.0711e-01, -7.0711e-01,  1.4142e+00],\n",
            "        [ 8.0831e-02,  1.8983e-01, -3.5636e-01,  4.2156e-01,  3.9617e-01,\n",
            "         -7.0711e-01,  1.4142e+00, -7.0711e-01],\n",
            "        [ 1.6051e+00,  1.0380e+00,  5.6925e-01,  1.1040e+00,  1.7109e+00,\n",
            "         -7.0711e-01, -7.0711e-01,  1.4142e+00],\n",
            "        [ 8.4295e-01,  6.7450e-01, -8.1917e-01,  8.7649e-01,  9.2206e-01,\n",
            "         -7.0711e-01, -7.0711e-01,  1.4142e+00],\n",
            "        [-9.8152e-01, -7.7951e-01,  2.4205e+00, -1.2844e+00, -1.4444e+00,\n",
            "          1.4142e+00, -7.0711e-01, -7.0711e-01],\n",
            "        [-3.4642e-02,  3.1100e-01, -5.8776e-01,  5.3530e-01,  1.7530e-03,\n",
            "         -7.0711e-01,  1.4142e+00, -7.0711e-01],\n",
            "        [-6.3510e-01, -1.5065e+00,  3.3785e-01, -1.3413e+00, -1.3130e+00,\n",
            "          1.4142e+00, -7.0711e-01, -7.0711e-01],\n",
            "        [ 1.6974e+00,  4.3217e-01,  8.0065e-01,  9.3336e-01,  1.4480e+00,\n",
            "         -7.0711e-01, -7.0711e-01,  1.4142e+00],\n",
            "        [ 8.8914e-01, -1.7367e-01, -1.2820e+00,  7.0589e-01,  1.0535e+00,\n",
            "         -7.0711e-01, -7.0711e-01,  1.4142e+00],\n",
            "        [ 4.9653e-01, -1.7367e-01, -3.5636e-01,  2.5097e-01,  1.3323e-01,\n",
            "         -7.0711e-01,  1.4142e+00, -7.0711e-01],\n",
            "        [-4.0415e-01, -1.1430e+00, -1.5134e+00, -2.6082e-01, -2.6119e-01,\n",
            "         -7.0711e-01,  1.4142e+00, -7.0711e-01],\n",
            "        [ 1.1201e+00,  5.5333e-01, -8.1917e-01,  6.4903e-01,  7.9059e-01,\n",
            "         -7.0711e-01, -7.0711e-01,  1.4142e+00],\n",
            "        [ 7.2748e-01, -1.1430e+00, -1.2820e+00,  4.2156e-01,  6.5912e-01,\n",
            "         -7.0711e-01, -7.0711e-01,  1.4142e+00],\n",
            "        [ 1.9630e-01,  1.8983e-01, -8.1917e-01,  7.6276e-01,  5.2764e-01,\n",
            "         -7.0711e-01,  1.4142e+00, -7.0711e-01],\n",
            "        [-1.3279e+00, -9.0068e-01,  1.0321e+00, -1.3413e+00, -1.1815e+00,\n",
            "          1.4142e+00, -7.0711e-01, -7.0711e-01],\n",
            "        [ 5.4272e-01, -9.0068e-01, -1.2820e+00, -4.3142e-01, -1.2972e-01,\n",
            "         -7.0711e-01,  1.4142e+00, -7.0711e-01],\n",
            "        [-1.9630e-01, -2.9484e-01, -1.2496e-01,  4.2156e-01,  3.9617e-01,\n",
            "         -7.0711e-01,  1.4142e+00, -7.0711e-01],\n",
            "        [ 1.1894e+00,  4.3217e-01, -5.8776e-01,  5.9216e-01,  7.9059e-01,\n",
            "         -7.0711e-01, -7.0711e-01,  1.4142e+00],\n",
            "        [ 7.9676e-01,  1.6438e+00,  1.2635e+00,  1.3314e+00,  1.7109e+00,\n",
            "         -7.0711e-01, -7.0711e-01,  1.4142e+00]], dtype=torch.float64)\n"
          ]
        }
      ],
      "source": [
        "print(x.size())\n",
        "print(y.size())\n",
        "print(x)"
      ]
    },
    {
      "cell_type": "code",
      "execution_count": 15,
      "id": "e3040860",
      "metadata": {
        "colab": {
          "base_uri": "https://localhost:8080/"
        },
        "id": "e3040860",
        "outputId": "c9057b64-5d18-4258-840e-3f90b1d7d8f0"
      },
      "outputs": [
        {
          "output_type": "stream",
          "name": "stdout",
          "text": [
            "running k-means on cuda:0..\n"
          ]
        },
        {
          "output_type": "stream",
          "name": "stderr",
          "text": [
            "[running kmeans]: 4it [00:00, 52.28it/s, center_shift=0.000000, iteration=4, tol=0.000100]\n"
          ]
        }
      ],
      "source": [
        "num_clusters = 3\n",
        "cluster_ids_x, cluster_centers = kmeans(\n",
        "    X=x, num_clusters=num_clusters, distance='euclidean', device=device\n",
        ")"
      ]
    },
    {
      "cell_type": "code",
      "execution_count": 16,
      "id": "677ce56e",
      "metadata": {
        "colab": {
          "base_uri": "https://localhost:8080/"
        },
        "id": "677ce56e",
        "outputId": "5c4db300-1aa0-4c54-a71f-82b7d3f437cc"
      },
      "outputs": [
        {
          "output_type": "stream",
          "name": "stdout",
          "text": [
            "tensor([2, 2, 0, 0, 1, 1, 2, 0, 0, 1, 1, 0, 2, 2, 2, 2, 2, 1, 0, 0, 2, 0, 0, 1,\n",
            "        1, 1, 1, 2, 1, 2, 0, 2, 1, 0, 0, 2, 1, 2, 2, 0, 1, 1, 2, 0, 2, 1, 1, 0,\n",
            "        2, 2, 0, 0, 1, 1, 2, 0, 0, 1, 0, 1, 2, 0, 2, 0, 0, 1, 0, 0, 1, 2, 1, 1,\n",
            "        1, 0, 0, 1, 2, 0, 0, 1, 1, 1, 2, 1, 1, 1, 2, 0, 0, 1, 2, 2, 2, 2, 0, 1,\n",
            "        0, 1, 1, 0, 1, 2, 1, 2, 2, 0, 1, 0, 2, 2, 1, 1, 2, 2, 1, 0, 1, 1, 2, 2])\n",
            "tensor([[-1.1850, -1.0022,  0.8757, -1.3028, -1.2384,  1.4142, -0.7071, -0.7071],\n",
            "        [-0.0063,  0.1292, -0.6246,  0.2742,  0.1631, -0.7071,  1.4142, -0.7071],\n",
            "        [ 1.1509,  0.9013, -0.2199,  1.0354,  1.0906, -0.7071, -0.7071,  1.4142]])\n"
          ]
        }
      ],
      "source": [
        "print(cluster_ids_x)\n",
        "print(cluster_centers)"
      ]
    },
    {
      "cell_type": "code",
      "execution_count": 17,
      "id": "ded0b820",
      "metadata": {
        "colab": {
          "base_uri": "https://localhost:8080/"
        },
        "id": "ded0b820",
        "outputId": "d18d60dc-9126-4bd2-f169-3e77bd54b0af"
      },
      "outputs": [
        {
          "output_type": "stream",
          "name": "stdout",
          "text": [
            "predicting on cuda:0..\n"
          ]
        }
      ],
      "source": [
        "cluster_ids_y = kmeans_predict(\n",
        "    y, cluster_centers, 'euclidean', device=device\n",
        ")"
      ]
    },
    {
      "cell_type": "code",
      "execution_count": 18,
      "id": "f74955c9",
      "metadata": {
        "colab": {
          "base_uri": "https://localhost:8080/"
        },
        "id": "f74955c9",
        "outputId": "94941942-1da4-4be5-9bab-5009017649e9"
      },
      "outputs": [
        {
          "output_type": "stream",
          "name": "stdout",
          "text": [
            "tensor([1, 2, 2, 1, 0, 2, 1, 0, 0, 1, 2, 0, 1, 2, 2, 2, 0, 0, 1, 0, 0, 2, 0, 2,\n",
            "        0, 0, 0, 2, 2, 0])\n"
          ]
        }
      ],
      "source": [
        "print(cluster_ids_y)"
      ]
    },
    {
      "cell_type": "code",
      "execution_count": 19,
      "id": "b870d391",
      "metadata": {
        "colab": {
          "base_uri": "https://localhost:8080/",
          "height": 481
        },
        "id": "b870d391",
        "outputId": "c7af09e1-95f3-4713-b73e-6007e0327618"
      },
      "outputs": [
        {
          "output_type": "display_data",
          "data": {
            "image/png": "[encoded data removed]",
            "text/plain": [
              "<Figure size 640x480 with 1 Axes>"
            ]
          },
          "metadata": {
            "needs_background": "light"
          }
        }
      ],
      "source": [
        "plt.figure(figsize=(4, 3), dpi=160)\n",
        "plt.scatter(y[:, 0], y[:, 1],c=cluster_ids_y, cmap='viridis', marker='x')\n",
        "\n",
        "plt.scatter(\n",
        "    cluster_centers[:, 0], cluster_centers[:, 1],\n",
        "    c='white',\n",
        "    alpha=0.6,\n",
        "    edgecolors='black',\n",
        "    linewidths=2\n",
        ")\n",
        "\n",
        "plt.tight_layout()\n",
        "plt.show()"
      ]
    },
    {
      "cell_type": "code",
      "execution_count": null,
      "id": "3681fa91",
      "metadata": {
        "id": "3681fa91"
      },
      "outputs": [],
      "source": [
        "#11.2.2 Gaussian Mixture Model"
      ]
    },
    {
      "cell_type": "code",
      "source": [
        "from google.colab import files # 데이터 불러오기\n",
        "file_uploaded=files.upload()   # chap11/data/data.npy 데이터 불러오기"
      ],
      "metadata": {
        "colab": {
          "resources": {
            "http://localhost:8080/nbextensions/google.colab/files.js": {
              "data": "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",
              "ok": true,
              "headers": [
                [
                  "content-type",
                  "application/javascript"
                ]
              ],
              "status": 200,
              "status_text": ""
            }
          },
          "base_uri": "https://localhost:8080/",
          "height": 77
        },
        "id": "qtn2hC8KhnZY",
        "outputId": "31a7ba35-dfbe-4196-c947-5c1436d39240"
      },
      "id": "qtn2hC8KhnZY",
      "execution_count": 20,
      "outputs": [
        {
          "output_type": "display_data",
          "data": {
            "text/html": [
              "\n",
              "     <input type=\"file\" id=\"files-10352a1f-bbc2-4bd0-b796-0ccf7ede6202\" name=\"files[]\" multiple disabled\n",
              "        style=\"border:none\" />\n",
              "     <output id=\"result-10352a1f-bbc2-4bd0-b796-0ccf7ede6202\">\n",
              "      Upload widget is only available when the cell has been executed in the\n",
              "      current browser session. Please rerun this cell to enable.\n",
              "      </output>\n",
              "      <script src=\"/nbextensions/google.colab/files.js\"></script> "
            ],
            "text/plain": [
              "<IPython.core.display.HTML object>"
            ]
          },
          "metadata": {}
        },
        {
          "output_type": "stream",
          "name": "stdout",
          "text": [
            "Saving data.npy to data.npy\n"
          ]
        }
      ]
    },
    {
      "cell_type": "code",
      "execution_count": 21,
      "id": "b803ec4d",
      "metadata": {
        "id": "b803ec4d"
      },
      "outputs": [],
      "source": [
        "import numpy as np\n",
        "import matplotlib.pyplot as plt\n",
        "from sklearn.mixture import GaussianMixture\n",
        "X_train = np.load('data.npy')"
      ]
    },
    {
      "cell_type": "code",
      "execution_count": 22,
      "id": "d3bcb29b",
      "metadata": {
        "colab": {
          "base_uri": "https://localhost:8080/",
          "height": 432
        },
        "id": "d3bcb29b",
        "outputId": "d4d04513-26ec-4798-91fc-f751f2b38309"
      },
      "outputs": [
        {
          "output_type": "stream",
          "name": "stdout",
          "text": [
            "[[1.60629419 1.3470999 ]\n",
            " [3.0363831  3.09828041]]\n",
            "\n",
            "\n",
            "[[[ 0.75275611 -0.5054196 ]\n",
            "  [-0.5054196   0.74286061]]\n",
            "\n",
            " [[ 0.8465178   0.38644336]\n",
            "  [ 0.38644336  0.73395863]]]\n"
          ]
        },
        {
          "output_type": "display_data",
          "data": {
            "image/png": "[encoded data removed]",
            "text/plain": [
              "<Figure size 432x288 with 1 Axes>"
            ]
          },
          "metadata": {
            "needs_background": "light"
          }
        }
      ],
      "source": [
        "gmm = GaussianMixture(n_components=2)\n",
        "gmm.fit(X_train)\n",
        "\n",
        "print(gmm.means_)\n",
        "print('\\n')\n",
        "print(gmm.covariances_)\n",
        "\n",
        "X, Y = np.meshgrid(np.linspace(-1, 6), np.linspace(-1,6))\n",
        "XX = np.array([X.ravel(), Y.ravel()]).T\n",
        "Z = gmm.score_samples(XX)\n",
        "Z = Z.reshape((50,50))\n",
        "\n",
        "plt.contour(X, Y, Z)\n",
        "plt.scatter(X_train[:, 0], X_train[:, 1])\n",
        "plt.show()"
      ]
    },
    {
      "cell_type": "code",
      "execution_count": null,
      "id": "3ca6411a",
      "metadata": {
        "id": "3ca6411a"
      },
      "outputs": [],
      "source": [
        "#11.2.3 자기조직화 지도 (Self-Organizing Map, SOM)"
      ]
    },
    {
      "cell_type": "code",
      "source": [
        "!pip install minisom"
      ],
      "metadata": {
        "colab": {
          "base_uri": "https://localhost:8080/"
        },
        "id": "YH4eg5TmhvPK",
        "outputId": "6e59acd5-d650-4e49-904a-3f99f4b3ac3d"
      },
      "id": "YH4eg5TmhvPK",
      "execution_count": 23,
      "outputs": [
        {
          "output_type": "stream",
          "name": "stdout",
          "text": [
            "Collecting minisom\n",
            "  Downloading MiniSom-2.2.9.tar.gz (8.1 kB)\n",
            "Building wheels for collected packages: minisom\n",
            "  Building wheel for minisom (setup.py) ... \u001b[?25l\u001b[?25hdone\n",
            "  Created wheel for minisom: filename=MiniSom-2.2.9-py3-none-any.whl size=8594 sha256=b4da10cde34475e044088e78bb2bbcb85411581269f74eba1d8fe3c45eb75db1\n",
            "  Stored in directory: /root/.cache/pip/wheels/3d/a1/10/f50b6f4865652eac239a2700de411c3078c27e1318320e494c\n",
            "Successfully built minisom\n",
            "Installing collected packages: minisom\n",
            "Successfully installed minisom-2.2.9\n"
          ]
        }
      ]
    },
    {
      "cell_type": "code",
      "execution_count": 24,
      "id": "6b302e59",
      "metadata": {
        "id": "6b302e59"
      },
      "outputs": [],
      "source": [
        "import numpy as np\n",
        "from sklearn.datasets import load_digits\n",
        "from minisom import MiniSom  \n",
        "from pylab import plot,axis,show,pcolor,colorbar,bone\n",
        "\n",
        "digits = load_digits()\n",
        "data = digits.data\n",
        "labels = digits.target"
      ]
    },
    {
      "cell_type": "code",
      "execution_count": 25,
      "id": "b67399ff",
      "metadata": {
        "colab": {
          "base_uri": "https://localhost:8080/",
          "height": 342
        },
        "id": "b67399ff",
        "outputId": "5637f764-71f6-4472-f554-ae0accbae3a9"
      },
      "outputs": [
        {
          "output_type": "stream",
          "name": "stdout",
          "text": [
            "SOM 초기화.\n",
            "\n",
            ". SOM 진행 종료\n"
          ]
        },
        {
          "output_type": "execute_result",
          "data": {
            "text/plain": [
              "<matplotlib.colorbar.Colorbar at 0x7f8f35d5d850>"
            ]
          },
          "metadata": {},
          "execution_count": 25
        },
        {
          "output_type": "display_data",
          "data": {
            "image/png": "[encoded data removed]",
            "text/plain": [
              "<Figure size 432x288 with 2 Axes>"
            ]
          },
          "metadata": {
            "needs_background": "light"
          }
        }
      ],
      "source": [
        "som = MiniSom(16,16,64,sigma=1.0,learning_rate=0.5)\n",
        "som.random_weights_init(data)\n",
        "print(\"SOM 초기화.\")\n",
        "som.train_random(data,10000) \n",
        "print(\"\\n. SOM 진행 종료\")\n",
        "\n",
        "bone()\n",
        "pcolor(som.distance_map().T) \n",
        "colorbar()"
      ]
    },
    {
      "cell_type": "code",
      "execution_count": 26,
      "id": "6fe1603e",
      "metadata": {
        "colab": {
          "base_uri": "https://localhost:8080/",
          "height": 629
        },
        "id": "6fe1603e",
        "outputId": "7de18231-7191-49cb-87d5-9abd28ce187b"
      },
      "outputs": [
        {
          "output_type": "stream",
          "name": "stderr",
          "text": [
            "/usr/local/lib/python3.7/dist-packages/ipykernel_launcher.py:1: FutureWarning: elementwise comparison failed; returning scalar instead, but in the future will perform elementwise comparison\n",
            "  \"\"\"Entry point for launching an IPython kernel.\n",
            "/usr/local/lib/python3.7/dist-packages/ipykernel_launcher.py:2: FutureWarning: elementwise comparison failed; returning scalar instead, but in the future will perform elementwise comparison\n",
            "  \n",
            "/usr/local/lib/python3.7/dist-packages/ipykernel_launcher.py:3: FutureWarning: elementwise comparison failed; returning scalar instead, but in the future will perform elementwise comparison\n",
            "  This is separate from the ipykernel package so we can avoid doing imports until\n",
            "/usr/local/lib/python3.7/dist-packages/ipykernel_launcher.py:4: FutureWarning: elementwise comparison failed; returning scalar instead, but in the future will perform elementwise comparison\n",
            "  after removing the cwd from sys.path.\n",
            "/usr/local/lib/python3.7/dist-packages/ipykernel_launcher.py:5: FutureWarning: elementwise comparison failed; returning scalar instead, but in the future will perform elementwise comparison\n",
            "  \"\"\"\n",
            "/usr/local/lib/python3.7/dist-packages/ipykernel_launcher.py:6: FutureWarning: elementwise comparison failed; returning scalar instead, but in the future will perform elementwise comparison\n",
            "  \n",
            "/usr/local/lib/python3.7/dist-packages/ipykernel_launcher.py:7: FutureWarning: elementwise comparison failed; returning scalar instead, but in the future will perform elementwise comparison\n",
            "  import sys\n",
            "/usr/local/lib/python3.7/dist-packages/ipykernel_launcher.py:8: FutureWarning: elementwise comparison failed; returning scalar instead, but in the future will perform elementwise comparison\n",
            "  \n",
            "/usr/local/lib/python3.7/dist-packages/ipykernel_launcher.py:9: FutureWarning: elementwise comparison failed; returning scalar instead, but in the future will perform elementwise comparison\n",
            "  if __name__ == '__main__':\n",
            "/usr/local/lib/python3.7/dist-packages/ipykernel_launcher.py:10: FutureWarning: elementwise comparison failed; returning scalar instead, but in the future will perform elementwise comparison\n",
            "  # Remove the CWD from sys.path while we load stuff.\n"
          ]
        },
        {
          "output_type": "display_data",
          "data": {
            "image/png": "[encoded data removed]",
            "text/plain": [
              "<Figure size 432x288 with 1 Axes>"
            ]
          },
          "metadata": {
            "needs_background": "light"
          }
        }
      ],
      "source": [
        "labels[labels == '0'] = 0\n",
        "labels[labels == '1'] = 1\n",
        "labels[labels == '2'] = 2\n",
        "labels[labels == '3'] = 3\n",
        "labels[labels == '4'] = 4\n",
        "labels[labels == '5'] = 5\n",
        "labels[labels == '6'] = 6\n",
        "labels[labels == '7'] = 7\n",
        "labels[labels == '8'] = 8\n",
        "labels[labels == '9'] = 9\n",
        "\n",
        "markers = ['o', 'v', '1', '3', '8', 's', 'p', 'x', 'D', '*']\n",
        "colors = [\"r\", \"g\", \"b\", \"y\", \"c\", (0,0.1,0.8), (1,0.5,0), (1,1,0.3), \"m\", (0.4,0.6,0)]\n",
        "for cnt,xx in enumerate(data):\n",
        "   w = som.winner(xx) \n",
        "   plot(w[0]+.5,w[1]+.5,markers[labels[cnt]],    \n",
        "   markerfacecolor='None', markeredgecolor=colors[labels[cnt]], \n",
        "   markersize=12, markeredgewidth=2)\n",
        "show()"
      ]
    },
    {
      "cell_type": "code",
      "execution_count": null,
      "id": "684281c3",
      "metadata": {
        "id": "684281c3"
      },
      "outputs": [],
      "source": [
        ""
      ]
    }
  ],
  "metadata": {
    "kernelspec": {
      "display_name": "Python 3 (ipykernel)",
      "language": "python",
      "name": "python3"
    },
    "language_info": {
      "codemirror_mode": {
        "name": "ipython",
        "version": 3
      },
      "file_extension": ".py",
      "mimetype": "text/x-python",
      "name": "python",
      "nbconvert_exporter": "python",
      "pygments_lexer": "ipython3",
      "version": "3.8.12"
    },
    "colab": {
      "name": "python_11장_colab_none.ipynb",
      "provenance": [],
      "collapsed_sections": []
    },
    "accelerator": "GPU"
  },
  "nbformat": 4,
  "nbformat_minor": 5
}